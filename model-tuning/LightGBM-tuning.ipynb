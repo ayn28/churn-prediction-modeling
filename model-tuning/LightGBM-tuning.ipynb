{
 "cells": [
  {
   "cell_type": "markdown",
   "metadata": {},
   "source": [
    "# LightGBM tuning\n",
    "Goal: tune a LightGBM model with cleaned samples.\n",
    "***"
   ]
  },
  {
   "cell_type": "markdown",
   "metadata": {},
   "source": [
    "## Table of Contents "
   ]
  },
  {
   "cell_type": "markdown",
   "metadata": {},
   "source": [
    "1. [Intuition Behind Tuning Approach](#1.-Intuition-Behind-Tuning-Approach)\n",
    "2. [Intuition Behind Evaluation Metrics](#2.-Intuition-Behind-Tuning-Metrics)\n",
    "3. [Load Data](#3.-Load-Data)\n",
    "4. [Define Functions](#4.-Define-Functions)\n",
    "5. [Building a Baseline Model](#5.-Building-a-Baseline-Model)\n",
    "6. [Equalize Class Imbalance](#6.-Equalize-Class-Imbalance)"
   ]
  },
  {
   "cell_type": "markdown",
   "metadata": {},
   "source": [
    "## 1. Intuition Behind Tuning Approach\n",
    "1. Tune parameters for the leaf-wise (best-first) tree.\n",
    "2. Tune for faster speed.\n",
    "3. Tune for more accurate predictions.\n",
    "4. Control overfitting."
   ]
  },
  {
   "cell_type": "markdown",
   "metadata": {},
   "source": [
    "## 2. Intuition Behind Evaluation Metrics\n",
    "\n",
    "Click this [link](https://github.com/ayn28/churn-prediction-modeling/blob/master/model-tuning/XGBoost-tuning.ipynb) or copy and paste the link below into your browser to read about the intuition behind choosing the evaluation metrics. \n",
    "\n",
    "https://github.com/ayn28/churn-prediction-modeling/blob/master/model-tuning/XGBoost-tuning.ipynb"
   ]
  },
  {
   "cell_type": "markdown",
   "metadata": {},
   "source": [
    "## 3. Load Data"
   ]
  },
  {
   "cell_type": "code",
   "execution_count": 1,
   "metadata": {},
   "outputs": [],
   "source": [
    "from sklearn.model_selection import train_test_split\n",
    "import pandas as pd\n",
    "import numpy as np\n",
    "\n",
    "# Import cleaned datasets\n",
    "df = pd.read_csv('data/cleaned_data/og_cleaned_samples.csv', index_col='customerID')\n",
    "df_cat_encoded = pd.read_csv('data/cleaned_data/num_cleaned_samples.csv', index_col='customerID')\n",
    "\n",
    "# Create features and target arrays\n",
    "X = df_cat_encoded.drop(['Churn_Yes', 'gender_Male'], axis=1).values\n",
    "y = df_cat_encoded.Churn_Yes.values\n",
    "\n",
    "# Create training and test set\n",
    "X_train, X_test, y_train, y_test = train_test_split(X, y, test_size=0.3, random_state=42, stratify=y)"
   ]
  },
  {
   "cell_type": "markdown",
   "metadata": {},
   "source": [
    "To create our features array, we drop the Churn feature since that is our target variable and we are trying to predict its labels. From our EDA, we determined that a customer's gender likely has no effect on their propensity to churn since it wasn't strongly correlated with other features and had no notable differences in churn rates between genders.\n",
    "***"
   ]
  },
  {
   "cell_type": "markdown",
   "metadata": {},
   "source": [
    "### 4. Define Functions"
   ]
  },
  {
   "cell_type": "code",
   "execution_count": 89,
   "metadata": {},
   "outputs": [],
   "source": [
    "from sklearn.metrics import auc, roc_curve, precision_recall_curve, average_precision_score, precision_score, recall_score, f1_score\n",
    "import matplotlib.pyplot as plt\n",
    "import collections\n",
    "import seaborn as sns\n",
    "%matplotlib inline\n",
    "sns.set()\n",
    "\n",
    "def fit_model(clf_name):\n",
    "    \"\"\"Fit a classifier to the training data.\"\"\"\n",
    "    clf_name.fit(\n",
    "        X_train,\n",
    "        y_train,\n",
    "        eval_set=[(X_test, y_test)],\n",
    "        eval_metric=['auc'],    # Will document logloss (by default) and AUC\n",
    "        early_stopping_rounds=10,\n",
    "        verbose=False\n",
    "    )\n",
    "\n",
    "# Define function to calculate evaluation metrics.\n",
    "def metrics(clf_name, results_list):\n",
    "    \"\"\"Calculate and output evaluation metrics.\"\"\"\n",
    "        # Print best iteration round number\n",
    "    print('Best iteration at {} rounds.'.format(clf_name.best_iteration_))\n",
    "        # Calculate AUC, AUCPR, and Logloss\n",
    "    auc_mtr = [i for i in clf_name.best_score_.values()][0]['auc']\n",
    "    logloss_mtr = [i for i in clf.best_score_.values()][0]['binary_logloss']\n",
    "        # Calculate AUCPR\n",
    "    probs = clf_name.predict_proba(X_test)\n",
    "    preds = probs[:, 1]\n",
    "    aucpr_mtr = average_precision_score(y_test, preds)\n",
    "    print('AUC:       {0:.3f}'.format(auc_mtr))\n",
    "    print('AUCPR:     {0:.3f}'.format(aucpr_mtr))\n",
    "    print('Logloss:   {0:.3f}'.format(logloss_mtr))\n",
    "        # Calculate precision, recall, and f1-score\n",
    "    binary_preds = clf_name.predict(X_test)\n",
    "    print('Precision: {0:.3f}'.format(precision_score(y_test, binary_preds)))\n",
    "    print('Recall:    {0:.3f}'.format(recall_score(y_test, binary_preds)))\n",
    "    print('f1-score:  {0:.3f}'.format(f1_score(y_test, binary_preds)))\n",
    "    \n",
    "    # Append metrics in a list for plotting\n",
    "    results_list.append([\n",
    "        round(auc_mtr, 3),\n",
    "        round(aucpr_mtr, 3),\n",
    "        round(logloss_mtr, 3),\n",
    "        round(precision_score(y_test, binary_preds), 3),\n",
    "        round(recall_score(y_test, binary_preds), 3),\n",
    "        round(f1_score(y_test, binary_preds), 3)\n",
    "    ])\n",
    "\n",
    "# Define function to plot ROC curve.     \n",
    "def plot_roc(clf_name):\n",
    "    \"\"\"Plot the ROC curve for a given classifier.\"\"\"\n",
    "    # Calculate the fpr and tpr for all thresholds of the classification\n",
    "    probs = clf_name.predict_proba(X_test)\n",
    "    preds = probs[:, 1]\n",
    "    fpr, tpr, thresholds = roc_curve(y_test, preds)\n",
    "    roc_auc = auc(fpr, tpr)\n",
    "\n",
    "    # Plot ROC curve\n",
    "    plt.figure(figsize=(7, 7))\n",
    "    plt.title('Receiver Operating Characteristic')\n",
    "    plt.plot(fpr, tpr, 'b', label='AUC = %0.3f' % roc_auc)\n",
    "    plt.legend(loc='lower right')\n",
    "    plt.plot([0, 1], [0, 1],'r--')\n",
    "    plt.xlim([0, 1])\n",
    "    plt.ylim([0, 1])\n",
    "    plt.ylabel('True Positive Rate')\n",
    "    plt.xlabel('False Positive Rate')\n",
    "    plt.show()\n",
    "\n",
    "# Define function to plot PR curve.\n",
    "def plot_pr(clf_name):\n",
    "    \"\"\"Plot the precision-recall curve for a given classifier.\"\"\"\n",
    "    # Calculate the precision and recall for all thresholds of the classification\n",
    "    probs = clf_name.predict_proba(X_test)\n",
    "    preds = probs[:, 1]\n",
    "    precision, recall, thresholds = precision_recall_curve(y_test, preds)\n",
    "    average_precision = average_precision_score(y_test, preds)\n",
    "\n",
    "    # Plot PR curve\n",
    "    plt.figure(figsize=(7, 7))\n",
    "    plt.title('Precision-Recall Curve')\n",
    "    plt.plot(recall, precision, 'b', label='AUCPR = %0.3f' % average_precision)\n",
    "    plt.legend(loc='lower right')\n",
    "    plt.plot([0, 1], [0.5, 0.5],'r--')\n",
    "    plt.xlabel('Recall')\n",
    "    plt.ylabel('Precision')\n",
    "    plt.ylim([0.0, 1.05])\n",
    "    plt.xlim([0.0, 1.0])\n",
    "    plt.show()\n",
    "\n",
    "# Define function to plot ROC and PR curve.\n",
    "def plot_roc_pr(clf_name):\n",
    "    \"\"\"Plot the ROC and PR-curve for a given classifier.\"\"\"\n",
    "    plt.figure(figsize=(14, 7))\n",
    "    # Plot ROC\n",
    "    plt.subplot(121)\n",
    "    probs = clf_name.predict_proba(X_test)\n",
    "    preds = probs[:, 1]\n",
    "    fpr, tpr, thresholds = roc_curve(y_test, preds)\n",
    "    roc_auc = auc(fpr, tpr)\n",
    "    plt.title('Receiver Operating Characteristic')\n",
    "    plt.plot(fpr, tpr, 'b', label='AUC = %0.3f' % roc_auc)\n",
    "    plt.legend(loc='lower right')\n",
    "    plt.plot([0, 1], [0, 1],'r--')\n",
    "    plt.xlim([0, 1])\n",
    "    plt.ylim([0, 1])\n",
    "    plt.ylabel('True Positive Rate')\n",
    "    plt.xlabel('False Positive Rate')\n",
    "    \n",
    "    # Plot PR curve\n",
    "    plt.subplot(122)\n",
    "    precision, recall, thresholds = precision_recall_curve(y_test, preds)\n",
    "    average_precision = average_precision_score(y_test, preds)\n",
    "    plt.title('Precision-Recall Curve')\n",
    "    plt.plot(recall, precision, 'b', label='AUCPR = %0.3f' % average_precision)\n",
    "    plt.legend(loc='lower right')\n",
    "    plt.plot([0, 1], [0.5, 0.5],'r--')\n",
    "    plt.xlabel('Recall')\n",
    "    plt.ylabel('Precision')\n",
    "    plt.ylim([0.0, 1.05])\n",
    "    plt.xlim([0.0, 1.0])\n",
    "    plt.show()"
   ]
  },
  {
   "cell_type": "markdown",
   "metadata": {},
   "source": [
    "### 5. Building a Baseline Model\n",
    "In order to get an idea of the range of precision and recall we would like our model to surpass, we are going to build a baseline model and save its score for later. This score is what we can achieve with no tuning. "
   ]
  },
  {
   "cell_type": "code",
   "execution_count": 69,
   "metadata": {
    "scrolled": false
   },
   "outputs": [
    {
     "data": {
      "image/png": "[encoded data removed]",
      "text/plain": [
       "<Figure size 1008x504 with 2 Axes>"
      ]
     },
     "metadata": {},
     "output_type": "display_data"
    },
    {
     "name": "stdout",
     "output_type": "stream",
     "text": [
      "Best iteration at 14 rounds.\n",
      "AUC:       0.841\n",
      "AUCPR:     0.631\n",
      "Logloss:   0.435\n",
      "Precision: 0.684\n",
      "Recall:    0.390\n",
      "f1-score:  0.497\n"
     ]
    }
   ],
   "source": [
    "import lightgbm as lgb\n",
    "\n",
    "# Define parameters\n",
    "params = {\n",
    "    'verbosity': 0,\n",
    "    'seed': 42,\n",
    "    'objective': 'binary'\n",
    "}\n",
    "\n",
    "# Instantiate a classifier (using all default parameters)\n",
    "clf = lgb.LGBMClassifier(**params)\n",
    "\n",
    "# Fit classifier\n",
    "fit_model(clf)\n",
    "\n",
    "# Plot metrics\n",
    "plot_roc_pr(clf)\n",
    "\n",
    "# Output evaluation metrics\n",
    "results_list = []\n",
    "metrics(clf, results_list)"
   ]
  },
  {
   "cell_type": "markdown",
   "metadata": {},
   "source": [
    "### 6. Equalize Class Imbalance\n",
    "Most notably in this step, we apply more weight to the positive \"churn\" class. We apply the ratio of negative-to-positive classes to the positive class."
   ]
  },
  {
   "cell_type": "code",
   "execution_count": 70,
   "metadata": {},
   "outputs": [
    {
     "data": {
      "image/png": "[encoded data removed]",
      "text/plain": [
       "<Figure size 1008x504 with 2 Axes>"
      ]
     },
     "metadata": {},
     "output_type": "display_data"
    },
    {
     "name": "stdout",
     "output_type": "stream",
     "text": [
      "Best iteration at 13 rounds.\n",
      "AUC:       0.837\n",
      "AUCPR:     0.638\n",
      "Logloss:   0.435\n",
      "Precision: 0.558\n",
      "Recall:    0.717\n",
      "f1-score:  0.628\n"
     ]
    }
   ],
   "source": [
    "# Load data into Dataset objects (optimized for LightGBM)\n",
    "# (very memory-efficient b/c it only saves discrete bins)\n",
    "dtrain = lgb.Dataset(X_train, label=y_train)\n",
    "dtest = lgb.Dataset(X_test, label=y_test)\n",
    "\n",
    "# Balance the positive and negative weights and assign it to the scale_pos_weight parameter\n",
    "train_labels = dtrain.get_label()\n",
    "ratio = float(np.sum(train_labels == 0)) / np.sum(train_labels == 1)\n",
    "\n",
    "# Set hyperparameters\n",
    "params = {\n",
    "    'verbosity': 0,\n",
    "    'seed': 42,\n",
    "    'objective': 'binary',\n",
    "    'scale_pos_weight': ratio\n",
    "}\n",
    "\n",
    "# Instantiate classifier\n",
    "clf1 = lgb.LGBMClassifier(**params)\n",
    "\n",
    "# Fit classifier\n",
    "fit_model(clf1)\n",
    "\n",
    "# Plot metrics\n",
    "plot_roc_pr(clf1)\n",
    "\n",
    "# Output evaluation metrics \n",
    "results_list1 = []\n",
    "metrics(clf1, results_list1)"
   ]
  },
  {
   "cell_type": "markdown",
   "metadata": {},
   "source": [
    "Let's compare the baseline model to the equalized model and further analyze the changes."
   ]
  },
  {
   "cell_type": "code",
   "execution_count": 85,
   "metadata": {
    "scrolled": true
   },
   "outputs": [
    {
     "name": "stdout",
     "output_type": "stream",
     "text": [
      "Baseline model:\n",
      "Best iteration at 14 rounds.\n",
      "AUC:       0.841\n",
      "AUCPR:     0.631\n",
      "Logloss:   0.435\n",
      "Precision: 0.684\n",
      "Recall:    0.390\n",
      "f1-score:  0.497\n",
      "\n",
      "Equalized model:\n",
      "Best iteration at 13 rounds.\n",
      "AUC:       0.837\n",
      "AUCPR:     0.638\n",
      "Logloss:   0.435\n",
      "Precision: 0.558\n",
      "Recall:    0.717\n",
      "f1-score:  0.628\n"
     ]
    }
   ],
   "source": [
    "print('Baseline model:')\n",
    "metrics(clf, results_list)\n",
    "\n",
    "print('\\nEqualized model:')\n",
    "metrics(clf1, results_list1)"
   ]
  },
  {
   "cell_type": "code",
   "execution_count": 81,
   "metadata": {},
   "outputs": [
    {
     "data": {
      "text/plain": [
       "[[0.841, 0.631, 0.435, 0.684, 0.39, 0.497],\n",
       " [0.841, 0.631, 0.435, 0.684, 0.39, 0.497],\n",
       " [0.841, 0.631, 0.435, 0.684, 0.39, 0.497],\n",
       " [0.841, 0.631, 0.435, 0.684, 0.39, 0.497],\n",
       " [0.841, 0.631, 0.435, 0.684, 0.39, 0.497]]"
      ]
     },
     "execution_count": 81,
     "metadata": {},
     "output_type": "execute_result"
    }
   ],
   "source": [
    "results_list"
   ]
  },
  {
   "cell_type": "code",
   "execution_count": 86,
   "metadata": {},
   "outputs": [
    {
     "data": {
      "text/plain": [
       "[[0.837, 0.638, 0.435, 0.558, 0.717, 0.628],\n",
       " [0.837, 0.638, 0.435, 0.558, 0.717, 0.628],\n",
       " [0.837, 0.638, 0.435, 0.558, 0.717, 0.628],\n",
       " [0.837, 0.638, 0.435, 0.558, 0.717, 0.628],\n",
       " [0.837, 0.638, 0.435, 0.558, 0.717, 0.628],\n",
       " [0.837, 0.638, 0.435, 0.558, 0.717, 0.628]]"
      ]
     },
     "execution_count": 86,
     "metadata": {},
     "output_type": "execute_result"
    }
   ],
   "source": [
    "results_list1"
   ]
  },
  {
   "cell_type": "code",
   "execution_count": null,
   "metadata": {},
   "outputs": [],
   "source": []
  },
  {
   "cell_type": "code",
   "execution_count": null,
   "metadata": {},
   "outputs": [],
   "source": []
  },
  {
   "cell_type": "code",
   "execution_count": null,
   "metadata": {},
   "outputs": [],
   "source": []
  },
  {
   "cell_type": "code",
   "execution_count": 92,
   "metadata": {},
   "outputs": [],
   "source": [
    "import collections\n",
    "\n",
    "# Define function to calculate evaluation metrics.\n",
    "def metrics(clf_name, results_set):\n",
    "    \"\"\"Calculate and output evaluation metrics.\"\"\"\n",
    "        # Print best iteration round number\n",
    "    print('Best iteration at {} rounds.'.format(clf_name.best_iteration_))\n",
    "        # Calculate AUC, AUCPR, and Logloss\n",
    "    auc_mtr = [i for i in clf_name.best_score_.values()][0]['auc']\n",
    "    logloss_mtr = [i for i in clf.best_score_.values()][0]['binary_logloss']\n",
    "        # Calculate AUCPR\n",
    "    probs = clf_name.predict_proba(X_test)\n",
    "    preds = probs[:, 1]\n",
    "    aucpr_mtr = average_precision_score(y_test, preds)\n",
    "    print('AUC:       {0:.3f}'.format(auc_mtr))\n",
    "    print('AUCPR:     {0:.3f}'.format(aucpr_mtr))\n",
    "    print('Logloss:   {0:.3f}'.format(logloss_mtr))\n",
    "        # Calculate precision, recall, and f1-score\n",
    "    binary_preds = clf_name.predict(X_test)\n",
    "    print('Precision: {0:.3f}'.format(precision_score(y_test, binary_preds)))\n",
    "    print('Recall:    {0:.3f}'.format(recall_score(y_test, binary_preds)))\n",
    "    print('f1-score:  {0:.3f}'.format(f1_score(y_test, binary_preds)))\n",
    "    \n",
    "    \n",
    "    # Append metrics in a list for plotting\n",
    "    results_set.append([\n",
    "        round(auc_mtr, 3),\n",
    "        round(aucpr_mtr, 3),\n",
    "        round(logloss_mtr, 3),\n",
    "        round(precision_score(y_test, binary_preds), 3),\n",
    "        round(recall_score(y_test, binary_preds), 3),\n",
    "        round(f1_score(y_test, binary_preds), 3)\n",
    "    ])"
   ]
  },
  {
   "cell_type": "markdown",
   "metadata": {},
   "source": [
    "## OrderedDict implementation\n",
    "see if it stores duplicates"
   ]
  },
  {
   "cell_type": "code",
   "execution_count": 94,
   "metadata": {},
   "outputs": [],
   "source": [
    "# Define function to calculate evaluation metrics.\n",
    "def metrics(clf_name, ordered_dict):\n",
    "    \"\"\"Calculate and output evaluation metrics.\"\"\"\n",
    "    # Print best iteration round number\n",
    "    print('Best iteration at {} rounds.'.format(clf_name.best_iteration_))\n",
    "    # Calculate AUC, AUCPR, and Logloss\n",
    "    auc_mtr = [i for i in clf_name.best_score_.values()][0]['auc']\n",
    "    logloss_mtr = [i for i in clf.best_score_.values()][0]['binary_logloss']\n",
    "    # Calculate AUCPR\n",
    "    probs = clf_name.predict_proba(X_test)\n",
    "    preds = probs[:, 1]\n",
    "    aucpr_mtr = average_precision_score(y_test, preds)\n",
    "    print('AUC:       {0:.3f}'.format(auc_mtr))\n",
    "    print('AUCPR:     {0:.3f}'.format(aucpr_mtr))\n",
    "    print('Logloss:   {0:.3f}'.format(logloss_mtr))\n",
    "    # Calculate precision, recall, and f1-score\n",
    "    binary_preds = clf_name.predict(X_test)\n",
    "    print('Precision: {0:.3f}'.format(precision_score(y_test, binary_preds)))\n",
    "    print('Recall:    {0:.3f}'.format(recall_score(y_test, binary_preds)))\n",
    "    print('f1-score:  {0:.3f}'.format(f1_score(y_test, binary_preds)))\n",
    "    \n",
    "    # Append metrics to an ordered dictionary (for plotting)\n",
    "    ordered_dict['AUC'] = round(auc_mtr, 3)\n",
    "    ordered_dict['AUCPR'] = round(aucpr_mtr, 3)\n",
    "    ordered_dict['Logloss'] = round(logloss_mtr, 3)\n",
    "    ordered_dict['Precision'] = round(precision_score(y_test, binary_preds), 3)\n",
    "    ordered_dict['Recall'] = round(recall_score(y_test, binary_preds), 3)\n",
    "    ordered_dict['F1_score'] = round(f1_score(y_test, binary_preds), 3)"
   ]
  },
  {
   "cell_type": "code",
   "execution_count": 96,
   "metadata": {},
   "outputs": [
    {
     "name": "stdout",
     "output_type": "stream",
     "text": [
      "Best iteration at 13 rounds.\n",
      "AUC:       0.837\n",
      "AUCPR:     0.638\n",
      "Logloss:   0.435\n",
      "Precision: 0.558\n",
      "Recall:    0.717\n",
      "f1-score:  0.628\n"
     ]
    }
   ],
   "source": [
    "from collections import OrderedDict\n",
    "\n",
    "# Instantiate classifier\n",
    "clf1 = lgb.LGBMClassifier(**params)\n",
    "\n",
    "# Fit classifier\n",
    "fit_model(clf1)\n",
    "\n",
    "# Output evaluation metrics \n",
    "results_dict1 = OrderedDict()\n",
    "metrics(clf1, results_dict1)"
   ]
  },
  {
   "cell_type": "code",
   "execution_count": 97,
   "metadata": {},
   "outputs": [
    {
     "data": {
      "text/plain": [
       "OrderedDict([('AUC', 0.837),\n",
       "             ('AUCPR', 0.638),\n",
       "             ('Logloss', 0.435),\n",
       "             ('Precision', 0.558),\n",
       "             ('Recall', 0.717),\n",
       "             ('F1_score', 0.628)])"
      ]
     },
     "execution_count": 97,
     "metadata": {},
     "output_type": "execute_result"
    }
   ],
   "source": [
    "results_dict1"
   ]
  },
  {
   "cell_type": "code",
   "execution_count": 98,
   "metadata": {},
   "outputs": [
    {
     "name": "stdout",
     "output_type": "stream",
     "text": [
      "Best iteration at 13 rounds.\n",
      "AUC:       0.837\n",
      "AUCPR:     0.638\n",
      "Logloss:   0.435\n",
      "Precision: 0.558\n",
      "Recall:    0.717\n",
      "f1-score:  0.628\n"
     ]
    }
   ],
   "source": [
    "metrics(clf1, results_dict1)"
   ]
  },
  {
   "cell_type": "code",
   "execution_count": 101,
   "metadata": {},
   "outputs": [
    {
     "data": {
      "text/plain": [
       "OrderedDict([('AUC', 0.837),\n",
       "             ('AUCPR', 0.638),\n",
       "             ('Logloss', 0.435),\n",
       "             ('Precision', 0.558),\n",
       "             ('Recall', 0.717),\n",
       "             ('F1_score', 0.628)])"
      ]
     },
     "execution_count": 101,
     "metadata": {},
     "output_type": "execute_result"
    }
   ],
   "source": [
    "results_dict1"
   ]
  },
  {
   "cell_type": "code",
   "execution_count": null,
   "metadata": {},
   "outputs": [],
   "source": []
  },
  {
   "cell_type": "code",
   "execution_count": null,
   "metadata": {},
   "outputs": [],
   "source": []
  },
  {
   "cell_type": "code",
   "execution_count": null,
   "metadata": {},
   "outputs": [],
   "source": []
  },
  {
   "cell_type": "code",
   "execution_count": null,
   "metadata": {},
   "outputs": [],
   "source": []
  },
  {
   "cell_type": "code",
   "execution_count": 15,
   "metadata": {},
   "outputs": [],
   "source": [
    "df = pd.DataFrame(\n",
    "    np.array([results_set, results_set1])\n",
    ")"
   ]
  },
  {
   "cell_type": "code",
   "execution_count": null,
   "metadata": {},
   "outputs": [],
   "source": []
  },
  {
   "cell_type": "code",
   "execution_count": null,
   "metadata": {},
   "outputs": [],
   "source": []
  },
  {
   "cell_type": "code",
   "execution_count": null,
   "metadata": {},
   "outputs": [],
   "source": []
  },
  {
   "cell_type": "code",
   "execution_count": null,
   "metadata": {},
   "outputs": [],
   "source": []
  },
  {
   "cell_type": "code",
   "execution_count": null,
   "metadata": {},
   "outputs": [],
   "source": []
  }
 ],
 "metadata": {
  "hide_input": false,
  "kernelspec": {
   "display_name": "Python 3",
   "language": "python",
   "name": "python3"
  },
  "language_info": {
   "codemirror_mode": {
    "name": "ipython",
    "version": 3
   },
   "file_extension": ".py",
   "mimetype": "text/x-python",
   "name": "python",
   "nbconvert_exporter": "python",
   "pygments_lexer": "ipython3",
   "version": "3.7.1"
  }
 },
 "nbformat": 4,
 "nbformat_minor": 2
}
