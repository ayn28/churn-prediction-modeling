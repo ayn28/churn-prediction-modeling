{
 "cells": [
  {
   "cell_type": "markdown",
   "metadata": {},
   "source": [
    "# LightGBM tuning\n",
    "Goal: tune a LightGBM model with cleaned samples.\n",
    "***"
   ]
  },
  {
   "cell_type": "markdown",
   "metadata": {},
   "source": [
    "## Table of Contents "
   ]
  },
  {
   "cell_type": "markdown",
   "metadata": {},
   "source": [
    "1. [Intuition Behind Tuning Approach](#1.-Intuition-Behind-Tuning-Approach)\n",
    "2. [Intuition Behind Evaluation Metrics](#2.-Intuition-Behind-Tuning-Metrics)\n",
    "3. [Load Data](#3.-Load-Data)\n",
    "4. [Define Functions](#4.-Define-Functions)\n",
    "5. [Building a Baseline Model](#5.-Building-a-Baseline-Model)\n",
    "6. [Equalize Class Imbalance](#6.-Equalize-Class-Imbalance)\n",
    "7. [Tune Parameters for Overfitting](#7.-Tune-Parameters-for-Overfitting)\n",
    "<br>7.1 [Overfitting (1)](#7.1-Overfitting-(1))\n",
    "<br>7.2 [Overfitting (2)](#7.2-Overfitting-(2))\n",
    "8. [Accurate Predictions and Overfitting](#8.-Accurate-Predictions-and-Overfitting)\n",
    "9. [Regularization](#9.-Regularization)"
   ]
  },
  {
   "cell_type": "markdown",
   "metadata": {},
   "source": [
    "## 1. Intuition Behind Tuning Approach\n",
    "1. Control overfitting and tune parameters for the leaf-wise (best-first) tree.\n",
    "2. Tune for more accurate predictions and further control overfitting.\n",
    "3. Regularize the predictions."
   ]
  },
  {
   "cell_type": "markdown",
   "metadata": {},
   "source": [
    "## 2. Intuition Behind Evaluation Metrics\n",
    "\n",
    "Click this [link](https://github.com/ayn28/churn-prediction-modeling/blob/master/model-tuning/XGBoost-tuning.ipynb) or copy and paste the link below into your browser to read about the intuition behind choosing the evaluation metrics. \n",
    "\n",
    "https://github.com/ayn28/churn-prediction-modeling/blob/master/model-tuning/XGBoost-tuning.ipynb"
   ]
  },
  {
   "cell_type": "markdown",
   "metadata": {},
   "source": [
    "## 3. Load Data"
   ]
  },
  {
   "cell_type": "code",
   "execution_count": 1,
   "metadata": {},
   "outputs": [],
   "source": [
    "from sklearn.model_selection import train_test_split\n",
    "import pandas as pd\n",
    "import numpy as np\n",
    "\n",
    "# Import cleaned datasets\n",
    "df = pd.read_csv('data/cleaned_data/og_cleaned_samples.csv', index_col='customerID')\n",
    "df_cat_encoded = pd.read_csv('data/cleaned_data/num_cleaned_samples.csv', index_col='customerID')\n",
    "\n",
    "# Create features and target arrays\n",
    "X = df_cat_encoded.drop(['Churn_Yes', 'gender_Male'], axis=1).values\n",
    "y = df_cat_encoded.Churn_Yes.values\n",
    "\n",
    "# Create training and test set\n",
    "X_train, X_test, y_train, y_test = train_test_split(X, y, test_size=0.3, random_state=42, stratify=y)"
   ]
  },
  {
   "cell_type": "markdown",
   "metadata": {},
   "source": [
    "To create our features array, we drop the Churn feature since that is our target variable and we are trying to predict its labels. From our EDA, we determined that a customer's gender likely has no effect on their propensity to churn since it wasn't strongly correlated with other features and had no notable differences in churn rates between genders.\n",
    "***"
   ]
  },
  {
   "cell_type": "markdown",
   "metadata": {},
   "source": [
    "### 4. Define Functions"
   ]
  },
  {
   "cell_type": "code",
   "execution_count": 12,
   "metadata": {},
   "outputs": [],
   "source": [
    "from sklearn.metrics import auc, roc_curve, precision_recall_curve, average_precision_score, precision_score, recall_score, f1_score\n",
    "from collections import OrderedDict\n",
    "import matplotlib.pyplot as plt\n",
    "import seaborn as sns\n",
    "%matplotlib inline\n",
    "sns.set()\n",
    "\n",
    "# Define function to fit a classifier.\n",
    "def fit_model(clf_name):\n",
    "    \"\"\"Fit a classifier to the training data.\"\"\"\n",
    "    clf_name.fit(\n",
    "        X_train,\n",
    "        y_train,\n",
    "        eval_set=[(X_test, y_test)],\n",
    "        eval_metric=['auc'],    # Will document logloss (by default) and AUC\n",
    "        early_stopping_rounds=10,\n",
    "        verbose=False\n",
    "    )\n",
    "\n",
    "# Define function to calculate evaluation metrics.\n",
    "def metrics(clf_name, ordered_dict):\n",
    "    \"\"\"Calculate and output evaluation metrics.\"\"\"\n",
    "    # Print best iteration round number\n",
    "    best_iteration = clf_name.best_iteration_\n",
    "    # Calculate AUC, AUCPR, and Logloss\n",
    "    auc_mtr = [i for i in clf_name.best_score_.values()][0]['auc']\n",
    "    logloss_mtr = [i for i in clf_name.best_score_.values()][0]['binary_logloss']\n",
    "    # Calculate AUCPR\n",
    "    probs = clf_name.predict_proba(X_test)\n",
    "    preds = probs[:, 1]\n",
    "    aucpr_mtr = average_precision_score(y_test, preds)\n",
    "    print('Best iteration: {} rounds.'.format(best_iteration))\n",
    "    print('AUC:       {0:.3f}'.format(auc_mtr))\n",
    "    print('AUCPR:     {0:.3f}'.format(aucpr_mtr))\n",
    "    print('Logloss:   {0:.3f}'.format(logloss_mtr))\n",
    "    # Calculate precision, recall, and f1-score\n",
    "    binary_preds = clf_name.predict(X_test)\n",
    "    print('Precision: {0:.3f}'.format(precision_score(y_test, binary_preds)))\n",
    "    print('Recall:    {0:.3f}'.format(recall_score(y_test, binary_preds)))\n",
    "    print('F1-score:  {0:.3f}'.format(f1_score(y_test, binary_preds)))\n",
    "    # Append metrics to an ordered dictionary (for plotting)\n",
    "    ordered_dict['Best_iteration'] = best_iteration\n",
    "    ordered_dict['AUC'] = round(auc_mtr, 3)\n",
    "    ordered_dict['AUCPR'] = round(aucpr_mtr, 3)\n",
    "    ordered_dict['Logloss'] = round(logloss_mtr, 3)\n",
    "    ordered_dict['Precision'] = round(precision_score(y_test, binary_preds), 3)\n",
    "    ordered_dict['Recall'] = round(recall_score(y_test, binary_preds), 3)\n",
    "    ordered_dict['F1_score'] = round(f1_score(y_test, binary_preds), 3)\n",
    "    \n",
    "# Define function to plot ROC curve.     \n",
    "def plot_roc(clf_name):\n",
    "    \"\"\"Plot the ROC curve for a given classifier.\"\"\"\n",
    "    # Calculate the fpr and tpr for all thresholds of the classification\n",
    "    probs = clf_name.predict_proba(X_test)\n",
    "    preds = probs[:, 1]\n",
    "    fpr, tpr, thresholds = roc_curve(y_test, preds)\n",
    "    roc_auc = auc(fpr, tpr)\n",
    "    # Plot ROC curve\n",
    "    plt.figure(figsize=(7, 7))\n",
    "    plt.title('Receiver Operating Characteristic')\n",
    "    plt.plot(fpr, tpr, 'b', label='AUC = %0.3f' % roc_auc)\n",
    "    plt.legend(loc='lower right')\n",
    "    plt.plot([0, 1], [0, 1],'r--')\n",
    "    plt.xlim([0, 1])\n",
    "    plt.ylim([0, 1])\n",
    "    plt.ylabel('True Positive Rate')\n",
    "    plt.xlabel('False Positive Rate')\n",
    "    plt.show()\n",
    "\n",
    "# Define function to plot PR curve.\n",
    "def plot_pr(clf_name):\n",
    "    \"\"\"Plot the precision-recall curve for a given classifier.\"\"\"\n",
    "    # Calculate the precision and recall for all thresholds of the classification\n",
    "    probs = clf_name.predict_proba(X_test)\n",
    "    preds = probs[:, 1]\n",
    "    precision, recall, thresholds = precision_recall_curve(y_test, preds)\n",
    "    average_precision = average_precision_score(y_test, preds)\n",
    "    # Plot PR curve\n",
    "    plt.figure(figsize=(7, 7))\n",
    "    plt.title('Precision-Recall Curve')\n",
    "    plt.plot(recall, precision, 'b', label='AUCPR = %0.3f' % average_precision)\n",
    "    plt.legend(loc='lower right')\n",
    "    plt.plot([0, 1], [0.5, 0.5],'r--')\n",
    "    plt.xlabel('Recall')\n",
    "    plt.ylabel('Precision')\n",
    "    plt.ylim([0.0, 1.05])\n",
    "    plt.xlim([0.0, 1.0])\n",
    "    plt.show()\n",
    "\n",
    "# Define function to plot ROC and PR curve.\n",
    "def plot_roc_pr(clf_name):\n",
    "    \"\"\"Plot the ROC and PR-curve for a given classifier.\"\"\"\n",
    "    plt.figure(figsize=(14, 7))\n",
    "    # Plot ROC\n",
    "    plt.subplot(121)\n",
    "    probs = clf_name.predict_proba(X_test)\n",
    "    preds = probs[:, 1]\n",
    "    fpr, tpr, thresholds = roc_curve(y_test, preds)\n",
    "    roc_auc = auc(fpr, tpr)\n",
    "    plt.title('Receiver Operating Characteristic')\n",
    "    plt.plot(fpr, tpr, 'b', label='AUC = %0.3f' % roc_auc)\n",
    "    plt.legend(loc='lower right')\n",
    "    plt.plot([0, 1], [0, 1],'r--')\n",
    "    plt.xlim([0, 1])\n",
    "    plt.ylim([0, 1])\n",
    "    plt.ylabel('True Positive Rate')\n",
    "    plt.xlabel('False Positive Rate')\n",
    "    # Plot PR curve\n",
    "    plt.subplot(122)\n",
    "    precision, recall, thresholds = precision_recall_curve(y_test, preds)\n",
    "    average_precision = average_precision_score(y_test, preds)\n",
    "    plt.title('Precision-Recall Curve')\n",
    "    plt.plot(recall, precision, 'b', label='AUCPR = %0.3f' % average_precision)\n",
    "    plt.legend(loc='lower right')\n",
    "    plt.plot([0, 1], [0.5, 0.5],'r--')\n",
    "    plt.xlabel('Recall')\n",
    "    plt.ylabel('Precision')\n",
    "    plt.ylim([0.0, 1.05])\n",
    "    plt.xlim([0.0, 1.0])\n",
    "    plt.show()\n",
    "    \n",
    "# Define function to plot metric changes between consecutive iterations.\n",
    "def plot_consec_metric_delta(label1, dict1, label2, dict2):\n",
    "    \"\"\"Plot the metric changes between consecutive iterations.\"\"\"\n",
    "    df = pd.DataFrame(\n",
    "        data=[[val for (metric, val) in dict1.items()],\n",
    "              [val for (metric, val) in dict2.items()]],\n",
    "        columns=[metric for (metric, val) in dict1.items()]\n",
    "    )\n",
    "    \n",
    "    # Store best iterations\n",
    "    bst_iters = list(df['Best_iteration'])\n",
    "    \n",
    "    # Drop the 'Best_iteration' column inplace\n",
    "    df.drop(['Best_iteration'], axis=1, inplace=True)\n",
    "    \n",
    "    # Define # of iterations you want to plot\n",
    "    N = 2\n",
    "    ind = np.arange(N)    \n",
    "    \n",
    "    # Plot metrics\n",
    "    plt.figure(figsize=(6, 6))\n",
    "    for metric in list(df.columns):\n",
    "        plt.plot(ind, df[metric].values, linewidth=1.5, marker='o', label=metric);\n",
    "    \n",
    "    plt.xticks(\n",
    "        ticks=np.arange(N),\n",
    "        labels=[\n",
    "            '{}\\n{} rounds'.format(label1, bst_iters[0]),\n",
    "            '{}\\n{} rounds'.format(label2, bst_iters[1])\n",
    "        ])\n",
    "    \n",
    "    # Fixed\n",
    "    plt.title('Evaluation Metrics Over Consecutive Iterations', fontsize=13)\n",
    "    plt.ylabel('Value', fontsize=12)\n",
    "    plt.xlabel('Iteration', fontsize=12)\n",
    "    plt.legend(loc='center left', bbox_to_anchor=(1, 0.5));\n",
    "    plt.show()"
   ]
  },
  {
   "cell_type": "markdown",
   "metadata": {},
   "source": [
    "### 5. Building a Baseline Model\n",
    "In order to get an idea of the range of precision and recall we would like our model to surpass, we are going to build a baseline model and save its score for later. This score is what we can achieve with no tuning. "
   ]
  },
  {
   "cell_type": "code",
   "execution_count": 4,
   "metadata": {
    "scrolled": false
   },
   "outputs": [
    {
     "name": "stdout",
     "output_type": "stream",
     "text": [
      "Best iteration: 14 rounds.\n",
      "AUC:       0.841\n",
      "AUCPR:     0.631\n",
      "Logloss:   0.435\n",
      "Precision: 0.684\n",
      "Recall:    0.390\n",
      "F1-score:  0.497\n"
     ]
    }
   ],
   "source": [
    "import lightgbm as lgb\n",
    "\n",
    "# Define baseline parameters\n",
    "params = {\n",
    "    'verbosity': 0,\n",
    "    'seed': 42,\n",
    "    'objective': 'binary'\n",
    "}\n",
    "\n",
    "# Instantiate a classifier (using all default parameters)\n",
    "clf_baseline = lgb.LGBMClassifier(**params)\n",
    "\n",
    "# Fit classifier\n",
    "fit_model(clf_baseline)\n",
    "\n",
    "# Output evaluation metrics\n",
    "clf_baseline_dict = OrderedDict()\n",
    "metrics(clf_baseline, clf_baseline_dict)"
   ]
  },
  {
   "cell_type": "markdown",
   "metadata": {},
   "source": [
    "### 6. Equalize Class Imbalance\n",
    "Most notably in this step, we apply more weight to the positive \"churn\" class. We apply the ratio of negative-to-positive classes to the positive class."
   ]
  },
  {
   "cell_type": "code",
   "execution_count": 5,
   "metadata": {},
   "outputs": [
    {
     "name": "stdout",
     "output_type": "stream",
     "text": [
      "Value for scale_pos_weight: 2.76\n"
     ]
    }
   ],
   "source": [
    "# Load data into Dataset objects (optimized for LightGBM)\n",
    "# (very memory-efficient b/c it only saves discrete bins)\n",
    "dtrain = lgb.Dataset(X_train, label=y_train)\n",
    "dtest = lgb.Dataset(X_test, label=y_test)\n",
    "\n",
    "# Balance the positive and negative weights and assign it to the scale_pos_weight parameter\n",
    "train_labels = dtrain.get_label()\n",
    "ratio = float(np.sum(train_labels == 0)) / np.sum(train_labels == 1)\n",
    "print('Value for scale_pos_weight: {:.2f}'.format(ratio))"
   ]
  },
  {
   "cell_type": "code",
   "execution_count": 6,
   "metadata": {},
   "outputs": [
    {
     "name": "stdout",
     "output_type": "stream",
     "text": [
      "Best iteration: 14 rounds.\n",
      "AUC:       0.837\n",
      "AUCPR:     0.635\n",
      "Logloss:   0.469\n",
      "Precision: 0.552\n",
      "Recall:    0.742\n",
      "F1-score:  0.633\n"
     ]
    }
   ],
   "source": [
    "# Set hyperparameters\n",
    "# (added the scale_pos_weight parameter)\n",
    "params = {\n",
    "    'verbosity': 0,\n",
    "    'seed': 42,\n",
    "    'objective': 'binary',\n",
    "    'scale_pos_weight': 2.76\n",
    "}\n",
    "\n",
    "# Instantiate classifier\n",
    "clf_equalize = lgb.LGBMClassifier(**params)\n",
    "\n",
    "# Fit classifier\n",
    "fit_model(clf_equalize)\n",
    "\n",
    "# Output evaluation metrics \n",
    "clf_equalize_dict = OrderedDict()\n",
    "metrics(clf_equalize, clf_equalize_dict)"
   ]
  },
  {
   "cell_type": "markdown",
   "metadata": {},
   "source": [
    "Let's compare the baseline model to the equalized model and further analyze the changes."
   ]
  },
  {
   "cell_type": "code",
   "execution_count": 14,
   "metadata": {
    "scrolled": false
   },
   "outputs": [
    {
     "name": "stdout",
     "output_type": "stream",
     "text": [
      "Baseline model:\n",
      "Best iteration: 14 rounds.\n",
      "AUC:       0.841\n",
      "AUCPR:     0.631\n",
      "Logloss:   0.435\n",
      "Precision: 0.684\n",
      "Recall:    0.390\n",
      "F1-score:  0.497\n",
      "\n",
      "Equalized model:\n",
      "Best iteration: 14 rounds.\n",
      "AUC:       0.837\n",
      "AUCPR:     0.635\n",
      "Logloss:   0.469\n",
      "Precision: 0.552\n",
      "Recall:    0.742\n",
      "F1-score:  0.633\n"
     ]
    },
    {
     "data": {
      "image/png": "[encoded data removed]",
      "text/plain": [
       "<Figure size 432x432 with 1 Axes>"
      ]
     },
     "metadata": {},
     "output_type": "display_data"
    }
   ],
   "source": [
    "# Print evaluation metrics for baseline model\n",
    "print('Baseline model:')\n",
    "metrics(clf_baseline, clf_baseline_dict)\n",
    "\n",
    "# Print evaluation metrics for equalized model\n",
    "print('\\nEqualized model:')\n",
    "metrics(clf_equalize, clf_equalize_dict)\n",
    "\n",
    "# Plot the changes between both iterations\n",
    "plot_consec_metric_delta('Baseline', clf_baseline_dict, 'Equalized', clf_equalize_dict)"
   ]
  },
  {
   "cell_type": "markdown",
   "metadata": {},
   "source": [
    "After balancing the classes, the model's ability to classify positive labels increased (increase in recall) at the expense of misclassifying positive labels (decrease in precision)."
   ]
  },
  {
   "cell_type": "markdown",
   "metadata": {},
   "source": [
    "**Notable observations:**\n",
    "1. Recall, F1-score, AUCPR increased\n",
    "2. Precision decreased\n",
    "***"
   ]
  },
  {
   "cell_type": "markdown",
   "metadata": {},
   "source": [
    "## 7. Tune Parameters for Overfitting\n",
    "According to the LightGBM documentation:\n",
    "<br><br>\"LightGBM uses the leaf-wise tree growth algorithm, while many other popular tools use depth-wise tree growth. Compared with depth-wise growth, the leaf-wise algorithm can converge much faster. However, the leaf-wise growth may be over-fitting if not used with the appropriate parameters."
   ]
  },
  {
   "cell_type": "markdown",
   "metadata": {},
   "source": [
    "### 7.1 Overfitting (1)\n",
    "* **num_leaves**: Max number of leaves in one tree. This is the main parameter to control the complexity of the model.\n",
    "* **min_child_samples**: Minimal number of data in one leaf. This is a very important parameter to prevent over-fitting in a leaf-wise tree. Its optimal value depends on the number of training samples and num_leaves. \n",
    "* **min_child_weight**: Minimal sum hessian in one leaf used to deal with over-fitting.\n",
    "* **max_depth**: Limit the max depth for tree model. This is used to deal with over-fitting when data is small. "
   ]
  },
  {
   "cell_type": "code",
   "execution_count": 19,
   "metadata": {
    "scrolled": false
   },
   "outputs": [
    {
     "name": "stdout",
     "output_type": "stream",
     "text": [
      "Fitting 5 folds for each of 100 candidates, totalling 500 fits\n"
     ]
    },
    {
     "name": "stderr",
     "output_type": "stream",
     "text": [
      "[Parallel(n_jobs=1)]: Using backend SequentialBackend with 1 concurrent workers.\n"
     ]
    },
    {
     "name": "stdout",
     "output_type": "stream",
     "text": [
      "CPU times: user 5min 36s, sys: 5.91 s, total: 5min 42s\n",
      "Wall time: 48 s\n",
      "Best AUC score: 0.851\n",
      "Testing the following params:\n",
      "\tnum_leaves: 105\n",
      "\tmin_child_weight: 18\n",
      "\tmin_child_samples: 32\n",
      "\tmax_depth: 2\n"
     ]
    },
    {
     "name": "stderr",
     "output_type": "stream",
     "text": [
      "[Parallel(n_jobs=1)]: Done 500 out of 500 | elapsed:   48.0s finished\n"
     ]
    }
   ],
   "source": [
    "from sklearn.model_selection import GridSearchCV, RandomizedSearchCV\n",
    "import time \n",
    "\n",
    "# Set hyperparameters\n",
    "params = {\n",
    "    'verbosity': 0,\n",
    "    'seed': 42,\n",
    "    'objective': 'binary',\n",
    "    'scale_pos_weight': 2.76\n",
    "}\n",
    "\n",
    "# Parameters to tune \n",
    "params_grid = {\n",
    "    'num_leaves': np.arange(5, 135, 5),\n",
    "    'min_child_samples': np.arange(1, 50, 1),\n",
    "    'min_child_weight': np.arange(1, 50, 1),\n",
    "    'max_depth': np.arange(1, 16, 1)\n",
    "}\n",
    "\n",
    "# Peform RandomizedSearchCV to find optimal params\n",
    "clf_of1_grid = RandomizedSearchCV(\n",
    "    estimator=lgb.LGBMClassifier(**params),\n",
    "    param_distributions=params_grid,     # RS=param_distributions=; GS=param_grid\n",
    "    n_iter=100,                          # NO n_iter for GS\n",
    "    n_jobs=1,                            # NO n_jobs for GS\n",
    "    scoring='roc_auc',\n",
    "    cv=5,\n",
    "    verbose=1\n",
    ")\n",
    "\n",
    "# Fit the model\n",
    "%time clf_of1_grid.fit(X_train, y_train)\n",
    "\n",
    "print('Best AUC score: {0:.3f}'.format(clf_of1_grid.best_score_))\n",
    "print('Testing the following params:')\n",
    "for key, val in clf_of1_grid.best_params_.items():\n",
    "    print('\\t{}: {}'.format(key, val))"
   ]
  },
  {
   "cell_type": "code",
   "execution_count": 18,
   "metadata": {},
   "outputs": [
    {
     "name": "stdout",
     "output_type": "stream",
     "text": [
      "Best iteration: 14 rounds.\n",
      "AUC:       0.829\n",
      "AUCPR:     0.597\n",
      "Logloss:   0.499\n",
      "Precision: 0.512\n",
      "Recall:    0.734\n",
      "F1-score:  0.604\n"
     ]
    },
    {
     "data": {
      "image/png": "[encoded data removed]",
      "text/plain": [
       "<Figure size 432x432 with 1 Axes>"
      ]
     },
     "metadata": {},
     "output_type": "display_data"
    }
   ],
   "source": [
    "params = {\n",
    "    'verbosity': 0,\n",
    "    'seed': 42,\n",
    "    'objective': 'binary',\n",
    "    'scale_pos_weight': 2.76,\n",
    "    'num_leaves': 60,\n",
    "    'min_child_weight': 20,\n",
    "    'min_child_samples': 12,\n",
    "    'max_depth': 2\n",
    "}\n",
    "\n",
    "# Instantiate classifier\n",
    "clf_of1 = lgb.LGBMClassifier(**params)\n",
    "\n",
    "# Fit classifier\n",
    "fit_model(clf_of1)\n",
    "\n",
    "# Output eval metrics\n",
    "clf_of1_dict = OrderedDict()\n",
    "metrics(clf_of1, clf_of1_dict)\n",
    "plot_consec_metric_delta('Equalized', clf_equalize_dict, 'Overfit (1)', clf_of1_dict)"
   ]
  },
  {
   "cell_type": "code",
   "execution_count": null,
   "metadata": {},
   "outputs": [],
   "source": []
  },
  {
   "cell_type": "code",
   "execution_count": null,
   "metadata": {},
   "outputs": [],
   "source": []
  },
  {
   "cell_type": "code",
   "execution_count": null,
   "metadata": {},
   "outputs": [],
   "source": []
  },
  {
   "cell_type": "code",
   "execution_count": null,
   "metadata": {},
   "outputs": [],
   "source": []
  },
  {
   "cell_type": "markdown",
   "metadata": {},
   "source": [
    "### 7.2 Overfitting (2)\n",
    "Use bagging and feature sub-sampling to control overfitting:\n",
    "* **subsample**\n",
    "* **subsample_freq**\n",
    "* **colsample_bytree**"
   ]
  },
  {
   "cell_type": "code",
   "execution_count": null,
   "metadata": {},
   "outputs": [],
   "source": []
  },
  {
   "cell_type": "code",
   "execution_count": null,
   "metadata": {},
   "outputs": [],
   "source": []
  },
  {
   "cell_type": "code",
   "execution_count": null,
   "metadata": {},
   "outputs": [],
   "source": []
  },
  {
   "cell_type": "markdown",
   "metadata": {},
   "source": [
    "## 8. Accurate Predictions and Overfitting\n",
    "* **learning_rate**\n",
    "* **n_estimators**\n",
    "* **max_bin**"
   ]
  },
  {
   "cell_type": "code",
   "execution_count": null,
   "metadata": {},
   "outputs": [],
   "source": []
  },
  {
   "cell_type": "code",
   "execution_count": null,
   "metadata": {},
   "outputs": [],
   "source": []
  },
  {
   "cell_type": "code",
   "execution_count": null,
   "metadata": {},
   "outputs": [],
   "source": []
  },
  {
   "cell_type": "markdown",
   "metadata": {},
   "source": [
    "## 9. Regularization\n",
    "* **reg_alpha**\n",
    "* **reg_lambda**\n",
    "* **min_split_gain**"
   ]
  },
  {
   "cell_type": "code",
   "execution_count": null,
   "metadata": {},
   "outputs": [],
   "source": []
  },
  {
   "cell_type": "code",
   "execution_count": null,
   "metadata": {},
   "outputs": [],
   "source": []
  },
  {
   "cell_type": "code",
   "execution_count": null,
   "metadata": {},
   "outputs": [],
   "source": []
  },
  {
   "cell_type": "code",
   "execution_count": null,
   "metadata": {},
   "outputs": [],
   "source": []
  },
  {
   "cell_type": "code",
   "execution_count": null,
   "metadata": {},
   "outputs": [],
   "source": []
  },
  {
   "cell_type": "markdown",
   "metadata": {},
   "source": [
    "***"
   ]
  },
  {
   "cell_type": "markdown",
   "metadata": {},
   "source": [
    "### Parameters subsample and colsample_bytree"
   ]
  },
  {
   "cell_type": "code",
   "execution_count": null,
   "metadata": {},
   "outputs": [],
   "source": [
    "# Parameters to tune \n",
    "params_grid = {\n",
    "    'subsample':        np.arange(.1, 1.1, .1),\n",
    "    'colsample_bytree': np.arange(.1, 1.1, .1)\n",
    "}\n",
    "\n",
    "# Peform RandomizedSearchCV to find optimal params\n",
    "clf_grid1 = RandomizedSearchCV(\n",
    "    estimator=lgb.LGBMClassifier(**params),\n",
    "    param_distributions=params_grid,\n",
    "    n_iter=150,\n",
    "    n_jobs=1,\n",
    "    scoring='roc_auc',\n",
    "    cv=5,\n",
    "    verbose=1\n",
    ")\n",
    "\n",
    "# Fit the model\n",
    "%time clf_grid1.fit(X_train, y_train)\n",
    "clf_gridlist1 = []\n",
    "\n",
    "print('Best AUC score: {0:.3f}'.format(clf_grid1.best_score_))\n",
    "print('Best parameters:')\n",
    "for key, val in clf_grid1.best_params_.items():\n",
    "    print('\\t{}: {}'.format(key, val))\n",
    "    clf_gridlist1.append(val)\n",
    "    \n",
    "# Update parameters \n",
    "params['subsample'] = clf_gridlist1[0]\n",
    "params['colsample_bytree'] = clf_gridlist1[1]\n",
    "\n",
    "# Instantiate a classifier\n",
    "clf3 = lgb.LGBMClassifier(**params)\n",
    "\n",
    "# Fit classifier\n",
    "fit_model(clf3)\n",
    "\n",
    "# Output evaluation metrics\n",
    "print('')\n",
    "results_dict3 = OrderedDict()\n",
    "metrics(clf3, results_dict3)\n",
    "plot_consec_metric_delta(results_dict2, results_dict3)"
   ]
  },
  {
   "cell_type": "markdown",
   "metadata": {},
   "source": [
    "Recall, AUCPR, and F1 increased with only a minor decrease in precision. Let's use the following values for subsample and colsample_bytree:\n",
    "* subsample: 0.1\n",
    "* colsample_bytee: 0.30"
   ]
  },
  {
   "cell_type": "markdown",
   "metadata": {},
   "source": [
    "### Parameters learning_rate and n_estimators"
   ]
  },
  {
   "cell_type": "code",
   "execution_count": null,
   "metadata": {
    "scrolled": false
   },
   "outputs": [],
   "source": [
    "# Params to tune\n",
    "params_grid = {\n",
    "    'learning_rate': [0.005, 0.05, 0.1, 0.2, 0.3, 0.4],      \n",
    "    'n_estimators':  np.arange(100, 1000, 200),\n",
    "    'num_leaves':    [20, 50, 100, 300, 500, 700, 1000]\n",
    "}\n",
    "\n",
    "# Peform RandomizedSearchCV to find optimal params\n",
    "clf_grid2 = RandomizedSearchCV(\n",
    "    estimator=lgb.LGBMClassifier(**params),\n",
    "    param_distributions=params_grid,\n",
    "    scoring='roc_auc',\n",
    "    n_iter=150,\n",
    "    cv=5,\n",
    "    verbose=1\n",
    ")\n",
    "\n",
    "# Fit the model\n",
    "%time clf_grid2.fit(X_train, y_train)\n",
    "clf_gridlist2 = []\n",
    "\n",
    "print('Best AUC score: {0:.3f}'.format(clf_grid2.best_score_))\n",
    "print('Best parameters:')\n",
    "for key, val in clf_grid2.best_params_.items():\n",
    "    print('\\t{}: {}'.format(key, val))\n",
    "    clf_gridlist2.append(val)\n",
    "    \n",
    "# Update parameters \n",
    "params['num_leaves'] = clf_gridlist2[0]\n",
    "params['n_estimators'] = clf_gridlist2[1]\n",
    "params['learning_rate'] = clf_gridlist2[2]\n",
    "\n",
    "\n",
    "# Instantiate a classifier\n",
    "clf4 = lgb.LGBMClassifier(**params)\n",
    "\n",
    "# Fit classifier\n",
    "fit_model(clf4)\n",
    "\n",
    "# Output evaluation metrics\n",
    "print('')\n",
    "results_dict4 = OrderedDict()\n",
    "metrics(clf4, results_dict4)\n",
    "plot_consec_metric_delta(results_dict3, results_dict4)"
   ]
  },
  {
   "cell_type": "code",
   "execution_count": null,
   "metadata": {},
   "outputs": [],
   "source": []
  },
  {
   "cell_type": "code",
   "execution_count": null,
   "metadata": {},
   "outputs": [],
   "source": []
  },
  {
   "cell_type": "code",
   "execution_count": null,
   "metadata": {},
   "outputs": [],
   "source": []
  },
  {
   "cell_type": "code",
   "execution_count": null,
   "metadata": {},
   "outputs": [],
   "source": []
  },
  {
   "cell_type": "code",
   "execution_count": null,
   "metadata": {},
   "outputs": [],
   "source": []
  },
  {
   "cell_type": "code",
   "execution_count": null,
   "metadata": {},
   "outputs": [],
   "source": []
  },
  {
   "cell_type": "code",
   "execution_count": null,
   "metadata": {},
   "outputs": [],
   "source": []
  },
  {
   "cell_type": "code",
   "execution_count": null,
   "metadata": {},
   "outputs": [],
   "source": []
  },
  {
   "cell_type": "markdown",
   "metadata": {},
   "source": [
    "#### Additional reference"
   ]
  },
  {
   "cell_type": "code",
   "execution_count": null,
   "metadata": {},
   "outputs": [],
   "source": [
    "# df = pd.DataFrame(\n",
    "#     data=[[val for (metric, val) in results_dict.items()],\n",
    "#           [val for (metric, val) in results_dict1.items()]],\n",
    "#     columns=[metric for (metric, val) in results_dict.items()])\n",
    "\n",
    "# # Store best iterations\n",
    "# bst_iters = list(df['Best_iteration'])\n",
    "\n",
    "# # Drop the 'Best_iteration' column, inplace\n",
    "# df.drop(['Best_iteration'], axis=1, inplace=True)\n",
    "\n",
    "# df"
   ]
  },
  {
   "cell_type": "code",
   "execution_count": null,
   "metadata": {},
   "outputs": [],
   "source": [
    "# # Define # of iterations you want to plot\n",
    "# N = 2\n",
    "\n",
    "# plt.figure(figsize=(5, 5));\n",
    "# ind = np.arange(N)\n",
    "\n",
    "# # Plot metrics\n",
    "# for metric in list(df.columns):\n",
    "#     plt.plot(ind, df[metric].values, linewidth=1.5, marker='o', label=metric);\n",
    "\n",
    "# plt.xticks(\n",
    "#     ticks = np.arange(N),\n",
    "#     labels = [\n",
    "#         '0\\n{} rounds'.format(bst_iters[0]),\n",
    "#         '1\\n{} rounds'.format(bst_iters[1])\n",
    "#     ]\n",
    "# )\n",
    "\n",
    "# # Fixed\n",
    "# plt.title('Evaluation Metrics Over Tuning Iterations', fontsize=13)\n",
    "# plt.ylabel('Value', fontsize=12)\n",
    "# plt.xlabel('Iteration', fontsize=12)\n",
    "# plt.legend(loc='center left', bbox_to_anchor=(1, 0.5));\n",
    "# plt.show()"
   ]
  },
  {
   "cell_type": "code",
   "execution_count": null,
   "metadata": {},
   "outputs": [],
   "source": [
    "# from sklearn.model_selection import GridSearchCV, RandomizedSearchCV\n",
    "# import time \n",
    "\n",
    "# # Set hyperparameters\n",
    "# params = {\n",
    "#     'verbosity': 0,\n",
    "#     'seed': 42,\n",
    "#     'objective': 'binary',\n",
    "#     'scale_pos_weight': ratio\n",
    "# }\n",
    "\n",
    "# # Parameters to tune \n",
    "# params_grid = {\n",
    "#     'num_leaves':       np.arange(10, 950, 50),\n",
    "#     'min_child_weight': np.arange(1, 50, 1),\n",
    "#     'max_depth':        np.arange(1, 100, 1)\n",
    "# }\n",
    "\n",
    "# # Peform RandomizedSearchCV to find optimal params\n",
    "# clf_grid = RandomizedSearchCV(\n",
    "#     estimator=lgb.LGBMClassifier(**params),\n",
    "#     param_distributions=params_grid,\n",
    "#     n_iter=5,\n",
    "#     n_jobs=1,\n",
    "#     scoring='roc_auc',\n",
    "#     cv=4,\n",
    "#     verbose=0\n",
    "# )\n",
    "\n",
    "# # Fit the model\n",
    "# %time clf_grid.fit(X_train, y_train)\n",
    "\n",
    "# print('Best AUC score: {0:.3f}'.format(clf_grid.best_score_))\n",
    "# print('Best parameters:')\n",
    "# for key, val in clf_grid.best_params_.items():\n",
    "#     print('\\t{}: {}'.format(key, val))"
   ]
  }
 ],
 "metadata": {
  "hide_input": false,
  "kernelspec": {
   "display_name": "Python 3",
   "language": "python",
   "name": "python3"
  },
  "language_info": {
   "codemirror_mode": {
    "name": "ipython",
    "version": 3
   },
   "file_extension": ".py",
   "mimetype": "text/x-python",
   "name": "python",
   "nbconvert_exporter": "python",
   "pygments_lexer": "ipython3",
   "version": "3.7.1"
  }
 },
 "nbformat": 4,
 "nbformat_minor": 2
}
