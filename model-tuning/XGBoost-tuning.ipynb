{
 "cells": [
  {
   "cell_type": "markdown",
   "metadata": {},
   "source": [
    "# XGBoost tuning\n",
    "Goal: tune an XGBoost model in this notebook with the cleaned samples.\n",
    "***"
   ]
  },
  {
   "cell_type": "markdown",
   "metadata": {},
   "source": [
    "## Table of Contents "
   ]
  },
  {
   "cell_type": "markdown",
   "metadata": {},
   "source": [
    "1. [Intuition Behind Tuning Approach](#1.-Intuition-Behind-Tuning-Approach)\n",
    "2. [Intuition Behind Evaluation Metrics](#2.-Intuition-Behind-Evaluation-Metrics)\n",
    "3. [Load Data](#3.-Load-Data)\n",
    "4. [Define Functions](#4.-Define-Functions)\n",
    "5. [Building a Baseline Model](#5.-Building-a-Baseline-Model)\n",
    "6. [Equalize Class Imbalance](#6.-Equalize-Class-Imbalance)\n",
    "7. [Control Overfitting](#7.-Control-Overfitting)\n",
    "<br>7.1 [Parameters max_depth, min_child_weight, and gamma](#7.1-Parameters-max_depth,-min_child_weight,-and-gamma)\n",
    "<br>7.2 [Parameters subsample and colsample_bytree](#7.2Parameters-subsample-and-colsample_bytree)\n",
    "<br>7.3 [Parameters learning_rate and n_estimators](#7.3-Parameters-learning_rate-and-n_estimators)\n",
    "8. [Optimal Parameters](#8.-Optimal-Parameters)\n",
    "9. [Iteration Comparision](#9.-Iteration-Comparisons)\n",
    "10. [Final Model](#10.-Final-Model)\n",
    "11. [Additional Reference](#11.-Additional-Reference)"
   ]
  },
  {
   "cell_type": "markdown",
   "metadata": {},
   "source": [
    "## 1. Intuition Behind Tuning Approach"
   ]
  },
  {
   "cell_type": "markdown",
   "metadata": {},
   "source": [
    "1. **Build a baseline model** to measure efficacy of parameter tuning for evaluation metric improvements.\n",
    "2. **Equalize the class imbalance** to get a more reliable evaluation of model performance.\n",
    "3. **Control overfitting** by tuning model complexity and making training data robust to noise."
   ]
  },
  {
   "cell_type": "markdown",
   "metadata": {},
   "source": [
    "## 2. Intuition Behind Evaluation Metrics\n",
    "Given our imbalanced classification problem where the positive class, \"no-churn\", greatly outnumbers the negative class, \"churn\", accuracy is not a good measure for assessing model performance because the model will biasedly predict more records as the majority class and convey a misleading evaluation.\n",
    "\n",
    "Precision and recall are more appropriate metrics to use since they don't make use of the overwhelming, negative class (\"no-churn\") predictions and instead focus on identifying the positive \"churn\" cases. For our model evaluation, we will analyze precision, recall, f1-score, AUCPR (area under precision-recall curve), and AUC (area under ROC curve).\n",
    "\n",
    "Given our particular business scenario, we will closely analyze the **recall** metric. Recall evaluates the ability of a model to find all the relevant cases within a dataset; it is the number of *true positives* divided by the sum of *true positives* and *false negatives*. In the scope of this project, true positives are correctly identified \"churn\" customers, and **false negatives are individuals the model labels as \"retained\" who actually \"churned\"**. "
   ]
  },
  {
   "cell_type": "markdown",
   "metadata": {},
   "source": [
    "A false negative is most problematic in our scenario because we misclassify a group of churned customers and miss an opportunity to market towards a niche group in a retention program that is, on average, a fraction of the cost of an acquisition program. By minimizing the number of false negatives, we can maximize our recall value and market towards the largest group of customers predicted to churn.\n",
    "\n",
    "We will also take **precision** into consideration when evaluating performance, which is the model's ability to identify the relevant \"churn\" data points. A model with high recall and mid-to-low precision will account for a high percentage of correctly predicted \"churn\" customers and a low percentage of retained customers that were misclassified as \"churned\".\n",
    "\n",
    "The main tradeoff here are the additional marketing dollars spent on retained customers that should ideally be spent on customers likely to churn - this, however, isn't entirely undesirable since the marketing dollars allocated towards \"retained\" customers will add to their longevity with the company.\n",
    "***"
   ]
  },
  {
   "cell_type": "markdown",
   "metadata": {},
   "source": [
    "## 3. Load Data"
   ]
  },
  {
   "cell_type": "code",
   "execution_count": 1,
   "metadata": {},
   "outputs": [],
   "source": [
    "from sklearn.model_selection import train_test_split\n",
    "import pandas as pd\n",
    "import numpy as np\n",
    "\n",
    "# Import cleaned datasets\n",
    "df = pd.read_csv('data/cleaned_data/og_cleaned_samples.csv', index_col='customerID')\n",
    "df_cat_encoded = pd.read_csv('data/cleaned_data/num_cleaned_samples.csv', index_col='customerID')\n",
    "\n",
    "# Create features and target arrays\n",
    "X = df_cat_encoded.drop(['Churn_Yes', 'gender_Male'], axis=1).values\n",
    "y = df_cat_encoded.Churn_Yes.values\n",
    "\n",
    "# Create training and test set\n",
    "X_train, X_test, y_train, y_test = train_test_split(X, y, test_size=0.3, random_state=42, stratify=y)"
   ]
  },
  {
   "cell_type": "markdown",
   "metadata": {},
   "source": [
    "To create our features array, we drop the Churn feature since that is our target variable and we are trying to predict its labels. From our EDA, we determined that a customer's gender likely has no effect on their propensity to churn since it wasn't strongly correlated with other features and had no notable differences in churn rates between genders.\n",
    "***"
   ]
  },
  {
   "cell_type": "markdown",
   "metadata": {},
   "source": [
    "## 4. Define Functions"
   ]
  },
  {
   "cell_type": "code",
   "execution_count": 2,
   "metadata": {},
   "outputs": [],
   "source": [
    "from sklearn.metrics import auc, roc_curve, precision_recall_curve, average_precision_score, precision_score, recall_score, f1_score\n",
    "import matplotlib.pyplot as plt\n",
    "import seaborn as sns\n",
    "%matplotlib inline\n",
    "sns.set()\n",
    "\n",
    "# Function return the model's AUCPR and AUC scores at the iteration \n",
    "# with the highest AUC score. The AUCPR can still be higher at an \n",
    "# earlier or later iteration, but the function will return the AUCPR\n",
    "# score at the iteration with the highest AUC score. We will be using\n",
    "# AUC as the primary evaluation metric b/c we are going to balance the \n",
    "# classes later.\n",
    "def logloss_aucpr_auc(clf_name, evals_result_dict):\n",
    "    \"\"\"Compute the AUCPR and AUC at the model's \n",
    "    best iteration, using the AUC as the early\n",
    "    stopping metric.\"\"\"\n",
    "    eval_mtrs = [{'logloss': i['logloss'][clf_name.best_iteration], 'aucpr': i['aucpr'][clf_name.best_iteration], 'auc': i['auc'][clf_name.best_iteration]} for i in evals_result_dict.values()]\n",
    "    logloss_mtr = eval_mtrs[0]['logloss']\n",
    "    aucpr_mtr = eval_mtrs[0]['aucpr']\n",
    "    auc_mtr = eval_mtrs[0]['auc']\n",
    "    print('AUC:       {:.3f}'.format(auc_mtr))\n",
    "    print('AUCPR:     {:.3f}'.format(aucpr_mtr))\n",
    "    print('Logloss:   {:.3f}'.format(logloss_mtr))\n",
    "\n",
    "# Define function to calculate classification report metrics.\n",
    "# (calculating individually to draw easier comparisons)\n",
    "def class_metrics(y_test, binary_preds):\n",
    "    \"\"\"Calculation classification metrics.\"\"\"\n",
    "    print('Precision: {0:.3f}'.format(precision_score(y_test, binary_preds)))\n",
    "    print('Recall:    {0:.3f}'.format(recall_score(y_test, binary_preds)))\n",
    "    print('f1-score:  {0:.3f}'.format(f1_score(y_test, binary_preds)))\n",
    "\n",
    "# Define function to plot ROC curve.     \n",
    "def plot_roc(clf_name):\n",
    "    \"\"\"Plot the ROC curve for a given classifier.\"\"\"\n",
    "    # Calculate the fpr and tpr for all thresholds of the classification\n",
    "    probs = clf_name.predict_proba(X_test)\n",
    "    preds = probs[:, 1]\n",
    "    fpr, tpr, thresholds = roc_curve(y_test, preds)\n",
    "    roc_auc = auc(fpr, tpr)\n",
    "\n",
    "    # Plot ROC curve\n",
    "    plt.figure(figsize=(7, 7))\n",
    "    plt.title('Receiver Operating Characteristic')\n",
    "    plt.plot(fpr, tpr, 'b', label='AUC = %0.3f' % roc_auc)\n",
    "    plt.legend(loc='lower right')\n",
    "    plt.plot([0, 1], [0, 1],'r--')\n",
    "    plt.xlim([0, 1])\n",
    "    plt.ylim([0, 1])\n",
    "    plt.ylabel('True Positive Rate')\n",
    "    plt.xlabel('False Positive Rate')\n",
    "    plt.show()\n",
    "\n",
    "# Define function to plot PR curve.\n",
    "def plot_pr(clf_name):\n",
    "    \"\"\"Plot the precision-recall curve for a given classifier.\"\"\"\n",
    "    # Calculate the precision and recall for all thresholds of the classification\n",
    "    probs = clf_name.predict_proba(X_test)\n",
    "    preds = probs[:, 1]\n",
    "    precision, recall, thresholds = precision_recall_curve(y_test, preds)\n",
    "    average_precision = average_precision_score(y_test, preds)\n",
    "\n",
    "    # Plot PR curve\n",
    "    plt.figure(figsize=(7, 7))\n",
    "    plt.title('Precision-Recall Curve')\n",
    "    plt.plot(recall, precision, 'b', label='AUCPR = %0.3f' % average_precision)\n",
    "    plt.legend(loc='lower right')\n",
    "    plt.plot([0, 1], [0.5, 0.5],'r--')\n",
    "    plt.xlabel('Recall')\n",
    "    plt.ylabel('Precision')\n",
    "    plt.ylim([0.0, 1.05])\n",
    "    plt.xlim([0.0, 1.0])\n",
    "    plt.show()\n",
    "\n",
    "# Define function to plot ROC and PR curve.\n",
    "def plot_roc_pr(clf_name):\n",
    "    \"\"\"Plot the ROC and PR-curve for a given classifier.\"\"\"\n",
    "    plt.figure(figsize=(14, 7))\n",
    "    # Plot ROC\n",
    "    plt.subplot(121)\n",
    "    probs = clf_name.predict_proba(X_test)\n",
    "    preds = probs[:, 1]\n",
    "    fpr, tpr, thresholds = roc_curve(y_test, preds)\n",
    "    roc_auc = auc(fpr, tpr)\n",
    "    plt.title('Receiver Operating Characteristic')\n",
    "    plt.plot(fpr, tpr, 'b', label='AUC = %0.3f' % roc_auc)\n",
    "    plt.legend(loc='lower right')\n",
    "    plt.plot([0, 1], [0, 1],'r--')\n",
    "    plt.xlim([0, 1])\n",
    "    plt.ylim([0, 1])\n",
    "    plt.ylabel('True Positive Rate')\n",
    "    plt.xlabel('False Positive Rate')\n",
    "    \n",
    "    # Plot PR curve\n",
    "    plt.subplot(122)\n",
    "    precision, recall, thresholds = precision_recall_curve(y_test, preds)\n",
    "    average_precision = average_precision_score(y_test, preds)\n",
    "    plt.title('Precision-Recall Curve')\n",
    "    plt.plot(recall, precision, 'b', label='AUCPR = %0.3f' % average_precision)\n",
    "    plt.legend(loc='lower right')\n",
    "    plt.plot([0, 1], [0.5, 0.5],'r--')\n",
    "    plt.xlabel('Recall')\n",
    "    plt.ylabel('Precision')\n",
    "    plt.ylim([0.0, 1.05])\n",
    "    plt.xlim([0.0, 1.0])\n",
    "    plt.show()"
   ]
  },
  {
   "cell_type": "markdown",
   "metadata": {},
   "source": [
    "### 5. Building a Baseline Model\n",
    "In order to get an idea of the range of precision and recall we would like our model to surpass, we are going to build a baseline model and save its score for later. This score is what we can achieve with no tuning. "
   ]
  },
  {
   "cell_type": "code",
   "execution_count": 3,
   "metadata": {
    "scrolled": true
   },
   "outputs": [
    {
     "name": "stdout",
     "output_type": "stream",
     "text": [
      "AUC used as primary evaluation metric for early stopping.\n",
      "AUCPR output at best AUC score shown below.\n",
      "Best iteration at 40 rounds.\n",
      "AUC:       0.841\n",
      "AUCPR:     0.646\n",
      "Logloss:   0.422\n",
      "Precision: 0.656\n",
      "Recall:    0.488\n",
      "f1-score:  0.560\n"
     ]
    }
   ],
   "source": [
    "import xgboost as xgb\n",
    "\n",
    "# Define baseline parameters\n",
    "params_base = {\n",
    "    'verbosity': 0,\n",
    "    'objective': 'binary:logistic',\n",
    "    'eval_metric': 'auc',\n",
    "    'seed': 42\n",
    "}\n",
    "\n",
    "# Instantiate an XGBoost classifier\n",
    "clf = xgb.XGBClassifier(**params_base)\n",
    "\n",
    "# Fit classifier\n",
    "clf.fit(\n",
    "    X_train, \n",
    "    y_train,\n",
    "    eval_set=[(X_test, y_test)],\n",
    "    eval_metric=['logloss', 'aucpr', 'auc'],          # Pass in the eval_metric in this order!\n",
    "    early_stopping_rounds=10,\n",
    "    verbose=False\n",
    ")\n",
    "# Store evaluation metrics in a dict\n",
    "evals_result = clf.evals_result()\n",
    "\n",
    "# Print metrics at the model's best iteration\n",
    "# (you can verify that the AUC is correct by running: clf.best_score)\n",
    "print('AUC used as primary evaluation metric for early stopping.')\n",
    "print('AUCPR output at best AUC score shown below.')\n",
    "print('Best iteration at {} rounds.'.format(clf.best_iteration))\n",
    "logloss_aucpr_auc(clf, evals_result)\n",
    "\n",
    "# The following returns continuous values for the \n",
    "# predictions that correspond to the binary predictions:\n",
    "# probs = clf.predict_proba(X_test)\n",
    "# preds = probs[:, 1]\n",
    "# ----\n",
    "# The following returns binary values for the predictions\n",
    "# Must use binary predictions as input for the following:\n",
    "# precision_score, recall_score, f1_score, confusion_matrix, classification_report\n",
    "ypred = clf.predict(X_test, ntree_limit=clf.best_ntree_limit)\n",
    "class_metrics(y_test, ypred)"
   ]
  },
  {
   "cell_type": "markdown",
   "metadata": {},
   "source": [
    "With the model's parameters set to their default values and no tuning, we get the baseline metric scores listed above. Let's tweak a few parameters and potentially increase our baseline scores."
   ]
  },
  {
   "cell_type": "markdown",
   "metadata": {},
   "source": [
    "### 6. Equalize Class Imbalance\n",
    "Most notably in this step, we apply more weight to the positive \"churn\" class. We apply the ratio of negative-to-positive classes to the positive class."
   ]
  },
  {
   "cell_type": "code",
   "execution_count": 4,
   "metadata": {},
   "outputs": [
    {
     "name": "stdout",
     "output_type": "stream",
     "text": [
      "Value for scale_pos_weight: 2.76\n"
     ]
    }
   ],
   "source": [
    "# Load data into DMatrices (optimized for xgb algorithm)\n",
    "dtrain = xgb.DMatrix(X_train, label=y_train)\n",
    "dtest = xgb.DMatrix(X_test, label=y_test)\n",
    "\n",
    "# Balance the positive and negative weights and assign it to the scale_pos_weight parameter\n",
    "train_labels = dtrain.get_label()\n",
    "ratio = float(np.sum(train_labels == 0)) / np.sum(train_labels == 1)\n",
    "print('Value for scale_pos_weight: {:.2f}'.format(ratio))"
   ]
  },
  {
   "cell_type": "markdown",
   "metadata": {},
   "source": [
    "According to the XGBoost documentation, setting the **scale_pos_weight** parameter to the ratio of negative to positive classes will help equalize the class imbalance and require AUC for evaluation. It's acceptable to now use AUC for model evaluation since the ROC curve is less weighted towards the true negatives thereby providing a less biased representation of the model's performance."
   ]
  },
  {
   "cell_type": "code",
   "execution_count": 5,
   "metadata": {
    "scrolled": false
   },
   "outputs": [
    {
     "name": "stdout",
     "output_type": "stream",
     "text": [
      "AUC used as primary evaluation metric for early stopping.\n",
      "AUCPR output at best AUC score shown below.\n",
      "Best iteration at 7 rounds.\n",
      "AUC:       0.842\n",
      "AUCPR:     0.644\n",
      "Logloss:   0.494\n",
      "Precision: 0.519\n",
      "Recall:    0.799\n",
      "f1-score:  0.629\n"
     ]
    }
   ],
   "source": [
    "# Set hyperparameters\n",
    "params = {\n",
    "    'max_depth':        5,        # tweaked\n",
    "    'min_child_weight': 10,       # tweaked\n",
    "    'gamma':            1,        # tweaked\n",
    "    'subsample':        1,        \n",
    "    'colsample_bytree': 1,        \n",
    "    'learning_rate':    0.3,      # tweaked\n",
    "    'n_estimators':     500,      # tweaked\n",
    "    'scale_pos_weight': 2.76,     # tweaked\n",
    "    'verbosity':        0,\n",
    "    'objective':       'binary:logistic',\n",
    "    'eval_metric':     ['aucpr', 'auc'],          \n",
    "    'seed':             42\n",
    "}\n",
    "\n",
    "# Instantiate classifier\n",
    "clf1 = xgb.XGBClassifier(**params)\n",
    "\n",
    "# Fit classifier\n",
    "clf1.fit(\n",
    "    X_train,\n",
    "    y_train,\n",
    "    eval_set=[(X_test, y_test)],\n",
    "    eval_metric=['logloss', 'aucpr', 'auc'],\n",
    "    early_stopping_rounds=10,\n",
    "    verbose=False\n",
    ")\n",
    "# Store metrics in a dict\n",
    "evals_result1 = clf1.evals_result()\n",
    "\n",
    "# Print metrics at the model's best iteration\n",
    "print('AUC used as primary evaluation metric for early stopping.')\n",
    "print('AUCPR output at best AUC score shown below.')\n",
    "print('Best iteration at {} rounds.'.format(clf1.best_iteration))\n",
    "logloss_aucpr_auc(clf1, evals_result1)\n",
    "\n",
    "# Make predictions\n",
    "ypred1 = clf1.predict(X_test, ntree_limit=clf1.best_ntree_limit)\n",
    "class_metrics(y_test, ypred1)"
   ]
  },
  {
   "cell_type": "markdown",
   "metadata": {},
   "source": [
    "The parameter tweaks improved our model's performance across all metrics, especially for recall. Let's compare the baseline model to the equalized model and further analyze the changes."
   ]
  },
  {
   "cell_type": "code",
   "execution_count": 6,
   "metadata": {
    "scrolled": true
   },
   "outputs": [
    {
     "name": "stdout",
     "output_type": "stream",
     "text": [
      "Baseline model:\n",
      "AUC:       0.841\n",
      "AUCPR:     0.646\n",
      "Logloss:   0.422\n",
      "Precision: 0.656\n",
      "Recall:    0.488\n",
      "f1-score:  0.560\n",
      "\n",
      "Equalized model:\n",
      "AUC:       0.842\n",
      "AUCPR:     0.644\n",
      "Logloss:   0.494\n",
      "Precision: 0.519\n",
      "Recall:    0.799\n",
      "f1-score:  0.629\n"
     ]
    }
   ],
   "source": [
    "print('Baseline model:')\n",
    "logloss_aucpr_auc(clf, evals_result)\n",
    "class_metrics(y_test, ypred)\n",
    "\n",
    "print('\\nEqualized model:')\n",
    "logloss_aucpr_auc(clf1, evals_result1)\n",
    "class_metrics(y_test, ypred1)"
   ]
  },
  {
   "cell_type": "markdown",
   "metadata": {},
   "source": [
    "Tweaking only a few parameters increased the model's overall performance at the expense of its precision - mainly attributed to reweighting the positive class. \n",
    "\n",
    "The baseline model classified imbalanced samples - where the negative class was significantly larger than the positive class. The second, minimally-tuned model classified the *same* samples with about 3 times more weight on the positive class to equalize the imbalance and unbiasedly predict data points. \n",
    "\n",
    "As a result, the tuned classifier's ability to find all positive samples increases - represented by an increase in recall - at the expense of labeling more negative samples as positive - represented by a decrease in precision. The tradeoff of a lower precision isn't entirely undesireable here since the f1-score increased - which is the harmonic mean of precision and recall. The f1-score gives equal weight to both measures and is useful to create a classification model with an optimal balance of precision and recall. \n",
    "\n",
    "We are interested in a higher recall score, which may not necessarily be the optimal balance of precision and recall - but given the increase in recall and f1-score with tuning, we know that finding optimal parameters may increase both scores and increase our model's predictive power. Let's use cross validation and gridsearch to find the optimal parameters for our model. "
   ]
  },
  {
   "cell_type": "markdown",
   "metadata": {},
   "source": [
    "## 7. Control Overfitting\n",
    "### 7.1 Parameters max_depth, min_child_weight, and gamma\n",
    "These parameters add contraints on the architecture of the trees and directly control complexity to reduce overfitting. We tune them together to find a good trade-off between model bias and variance. According to the XGBoost documentation, after balancing the class weights, we use AUC for evaluation - we've already been using AUC for evaluation so far with the XGBoost classifiers, but we'll now use it as our scoring metric when performing the gridsearch. "
   ]
  },
  {
   "cell_type": "code",
   "execution_count": 7,
   "metadata": {},
   "outputs": [
    {
     "name": "stdout",
     "output_type": "stream",
     "text": [
      "CPU times: user 1h 9min 25s, sys: 27.8 s, total: 1h 9min 53s\n",
      "Wall time: 1h 11min 4s\n",
      "Best AUC score: 0.846\n",
      "Best parameters:\n",
      "\tgamma: 5\n",
      "\tmax_depth: 3\n",
      "\tmin_child_weight: 13\n"
     ]
    }
   ],
   "source": [
    "from sklearn.model_selection import GridSearchCV\n",
    "import time\n",
    "\n",
    "# Parameters to tune\n",
    "params_grid = {\n",
    "    'max_depth':        np.arange(3, 11, 1),\n",
    "    'min_child_weight': np.arange(4, 16, 1),\n",
    "    'gamma':            np.arange(1, 6, 1)\n",
    "}\n",
    "\n",
    "# Set fixed parameters (we'll tune these params in the following sections)\n",
    "params = {\n",
    "    'subsample':        1,        \n",
    "    'colsample_bytree': 1,        \n",
    "    'learning_rate':    0.3,      \n",
    "    'n_estimators':     500,\n",
    "    'scale_pos_weight': 2.76,        \n",
    "    'verbosity':        0,\n",
    "    'objective':        'binary:logistic',\n",
    "    'eval_metric':      ['logloss', 'aucpr', 'auc'],     \n",
    "    'seed':             42\n",
    "}\n",
    "\n",
    "# Perform grid search to find optimal tuning parameters\n",
    "bst_grid = GridSearchCV(\n",
    "    estimator=xgb.XGBClassifier(**params),\n",
    "    param_grid=params_grid,\n",
    "    scoring='roc_auc',\n",
    "    cv=3,\n",
    "    verbose=0   \n",
    ")\n",
    "\n",
    "# Fit the model\n",
    "%time bst_grid.fit(X_train, y_train)\n",
    "\n",
    "print('Best AUC score: {0:.3f}'.format(bst_grid.best_score_))\n",
    "print('Best parameters:')\n",
    "for key, val in bst_grid.best_params_.items():\n",
    "    print('\\t{}: {}'.format(key, val))"
   ]
  },
  {
   "cell_type": "markdown",
   "metadata": {},
   "source": [
    "After tuning max_depth, min_child_weight, and gamma, we get an **improved AUC score of 0.846** - an improvement of 0.007 - with the following tested optimal parameters:\n",
    "* **max_depth: 3**\n",
    "* **min_child_weight: 13**\n",
    "* **gamma: 5**\n",
    "\n",
    "Let's update our tested parameters with the aforementioned values and tune another set of parameters that control overfitting.\n",
    "\n",
    "*(The run time for testing these parameters was 1h 11min)*"
   ]
  },
  {
   "cell_type": "markdown",
   "metadata": {},
   "source": [
    "### 7.2 Parameters subsample and colsample_bytree\n",
    "These parameters control the sampling of the dataset that is done at each boosting round and add randomness to make training robust to noise to control overfitting. "
   ]
  },
  {
   "cell_type": "code",
   "execution_count": 8,
   "metadata": {},
   "outputs": [
    {
     "name": "stdout",
     "output_type": "stream",
     "text": [
      "CPU times: user 7min 38s, sys: 5.77 s, total: 7min 43s\n",
      "Wall time: 7min 55s\n",
      "Best AUC score: 0.848\n",
      "Best parameters:\n",
      "\tcolsample_bytree: 0.1\n",
      "\tsubsample: 1.0\n"
     ]
    }
   ],
   "source": [
    "# Parameters to tune\n",
    "params_grid = {\n",
    "    'subsample':        np.arange(.1, 1.1, .1),        \n",
    "    'colsample_bytree': np.arange(.1, 1.1, .1)\n",
    "}\n",
    "\n",
    "# Set fixed parameters\n",
    "params = {\n",
    "    'max_depth':        3,\n",
    "    'min_child_weight': 13,\n",
    "    'gamma':            5,     \n",
    "    'learning_rate':    0.3,      \n",
    "    'n_estimators':     500,\n",
    "    'scale_pos_weight': 2.76,        \n",
    "    'verbosity':        0,\n",
    "    'objective':        'binary:logistic',\n",
    "    'eval_metric':      ['logloss', 'aucpr', 'auc'],     \n",
    "    'seed':             42\n",
    "}\n",
    "\n",
    "# Perform grid search to find optimal tuning parameters\n",
    "bst1_grid = GridSearchCV(\n",
    "    estimator=xgb.XGBClassifier(**params),\n",
    "    param_grid=params_grid,\n",
    "    scoring='roc_auc',\n",
    "    cv=3,\n",
    "    verbose=0   \n",
    ")\n",
    "\n",
    "# Fit the model\n",
    "%time bst1_grid.fit(X_train, y_train)\n",
    "\n",
    "print('Best AUC score: {0:.3f}'.format(bst1_grid.best_score_))\n",
    "print('Best parameters:')\n",
    "for key, val in bst1_grid.best_params_.items():\n",
    "    print('\\t{}: {}'.format(key, val))"
   ]
  },
  {
   "cell_type": "markdown",
   "metadata": {},
   "source": [
    "After tuning subsample and colsample_bytree, we get an **improved AUC score of 0.848** - an improvement of 0.002 - with the following tested optimal parameters:\n",
    "* **subsample: 1.0**\n",
    "* **colsample_bytree: 0.1**\n",
    "\n",
    "Let's update our tested parameters with the aforementioned values and tune another set of parameters that control overfitting.\n",
    "\n",
    "*(The run time for testing these parameters was 8min)*"
   ]
  },
  {
   "cell_type": "markdown",
   "metadata": {},
   "source": [
    "### 7.3 Parameters learning_rate and n_estimators\n",
    "The learning_rate parameter is used shrink the feature weights after each boosting round; it defines the amount of \"correction\" we make at each step to prevent overfitting. In practice, having a lower learning rate makes our model more robust to overfitting, thus, the lower the learning_rate the better. However, with a lower learning rate we need more boosting rounds - which corresponds to more trees (n_estimators). Both of these parameters add randomness to make training robust to noise to control overfitting.\n",
    "\n",
    "We will optimize learning_rate and n_estimators twice. In the first iteration, we'll test relatively larger values in a wide interval to capture our first optimal value. During the second iteration, we'll use the previously identified values as the median for a new range of values at a smaller interval to determine a more precise optimal parameter."
   ]
  },
  {
   "cell_type": "markdown",
   "metadata": {},
   "source": [
    "#### Iteration 1:"
   ]
  },
  {
   "cell_type": "code",
   "execution_count": 9,
   "metadata": {
    "scrolled": true
   },
   "outputs": [
    {
     "name": "stdout",
     "output_type": "stream",
     "text": [
      "CPU times: user 1min 35s, sys: 1.29 s, total: 1min 36s\n",
      "Wall time: 1min 39s\n",
      "Best AUC score: 0.851\n",
      "Best parameters:\n",
      "\tlearning_rate: 0.05\n",
      "\tn_estimators: 700\n"
     ]
    }
   ],
   "source": [
    "# Parameters to tune\n",
    "params_grid = {\n",
    "    'learning_rate':    [0.005, 0.05, 0.1, 0.2, 0.3, 0.4],      \n",
    "    'n_estimators':     [100, 300, 500, 700, 900],\n",
    "}\n",
    "\n",
    "# Set fixed parameters\n",
    "params = {\n",
    "    'max_depth':        3,\n",
    "    'min_child_weight': 13,\n",
    "    'gamma':            5,\n",
    "    'subsample':        1,\n",
    "    'colsample_bytree': 0.1,\n",
    "    'scale_pos_weight': 2.76,        \n",
    "    'verbosity':        0,\n",
    "    'objective':        'binary:logistic',\n",
    "    'eval_metric':      ['logloss', 'aucpr', 'auc'],     \n",
    "    'seed':             42\n",
    "}\n",
    "\n",
    "\n",
    "bst2_grid = GridSearchCV(\n",
    "    estimator=xgb.XGBClassifier(**params),\n",
    "    param_grid=params_grid,\n",
    "    scoring='roc_auc',      \n",
    "    cv=3,\n",
    "    verbose=0\n",
    ")\n",
    "\n",
    "# Fit the model\n",
    "%time bst2_grid.fit(X_train, y_train)\n",
    "\n",
    "print('Best AUC score: {0:.3f}'.format(bst2_grid.best_score_))\n",
    "print('Best parameters:')\n",
    "for key, val in bst2_grid.best_params_.items():\n",
    "    print('\\t{}: {}'.format(key, val))"
   ]
  },
  {
   "cell_type": "markdown",
   "metadata": {},
   "source": [
    "After our first iteration of tuning the learning_rate and n_estimators, we get an **improved AUC score of 0.851** - an improvement of 0.003 - with the following tested optimal parameters:\n",
    "* **learning_rate: 0.05**\n",
    "* **n_estimators: 700**\n",
    "\n",
    "Let's run our second tuning iteration for the same parameters - using these identified  parameter values as medians for a smaller interval of testing values.\n",
    "\n",
    "*(The run time for testing these parameters was 1min)*"
   ]
  },
  {
   "cell_type": "markdown",
   "metadata": {},
   "source": [
    "#### Iteration 2:"
   ]
  },
  {
   "cell_type": "code",
   "execution_count": 10,
   "metadata": {},
   "outputs": [
    {
     "name": "stdout",
     "output_type": "stream",
     "text": [
      "CPU times: user 27min 56s, sys: 20.2 s, total: 28min 16s\n",
      "Wall time: 28min 57s\n",
      "Best AUC score: 0.851\n",
      "Best parameters:\n",
      "\tlearning_rate: 0.025526315789473685\n",
      "\tn_estimators: 860\n"
     ]
    }
   ],
   "source": [
    "# Parameters to tune\n",
    "params_grid = {\n",
    "    'learning_rate':    np.linspace(0.005, 0.2, 20),      \n",
    "    'n_estimators':     np.arange(500, 900, 20)\n",
    "}\n",
    "\n",
    "# Set fixed parameters\n",
    "params = {\n",
    "    'max_depth':        3,\n",
    "    'min_child_weight': 13,\n",
    "    'gamma':            5,\n",
    "    'subsample':        1,\n",
    "    'colsample_bytree': 0.1,\n",
    "    'scale_pos_weight': 2.76,        \n",
    "    'verbosity':        0,\n",
    "    'objective':        'binary:logistic',\n",
    "    'eval_metric':      ['logloss', 'aucpr', 'auc'],     \n",
    "    'seed':             42\n",
    "}\n",
    "\n",
    "bst3_grid = GridSearchCV(\n",
    "    estimator=xgb.XGBClassifier(**params),\n",
    "    param_grid=params_grid,\n",
    "    scoring='roc_auc',      \n",
    "    cv=3,\n",
    "    verbose=0\n",
    ")\n",
    "\n",
    "# Fit the model\n",
    "%time bst3_grid.fit(X_train, y_train)\n",
    "\n",
    "print('Best AUC score: {0:.3f}'.format(bst3_grid.best_score_))\n",
    "print('Best parameters:')\n",
    "for key, val in bst3_grid.best_params_.items():\n",
    "    print('\\t{}: {}'.format(key, val))"
   ]
  },
  {
   "cell_type": "markdown",
   "metadata": {},
   "source": [
    "The (rounded) AUC score does not change after optimizing the learning_rate and n_estimators with the following optimal parameters:\n",
    "* **learning_rate: 0.026**\n",
    "* **n_estimators: 860**\n",
    "\n",
    "Let's update our tested parameters with the aforementioned values.\n",
    "\n",
    "*(The run time for testing these parameters was 29min)*"
   ]
  },
  {
   "cell_type": "markdown",
   "metadata": {},
   "source": [
    "### 8. Optimal Parameters\n",
    "Let's train a model with our optimal parameters and see how it does on our test set."
   ]
  },
  {
   "cell_type": "code",
   "execution_count": 29,
   "metadata": {
    "scrolled": true
   },
   "outputs": [
    {
     "name": "stdout",
     "output_type": "stream",
     "text": [
      "AUC used as primary evaluation metric for early stopping.\n",
      "AUCPR output at best AUC score shown below.\n",
      "Best iteration at 36 rounds.\n",
      "AUC:       0.837\n",
      "AUCPR:     0.640\n",
      "Logloss:   0.606\n",
      "Precision: 0.499\n",
      "Recall:    0.788\n",
      "f1-score:  0.611\n"
     ]
    }
   ],
   "source": [
    "# Optimal params\n",
    "params = {\n",
    "    'max_depth':        3,\n",
    "    'min_child_weight': 13,\n",
    "    'gamma':            5,\n",
    "    'subsample':        1,        \n",
    "    'colsample_bytree': 0.1,        \n",
    "    'learning_rate':    0.026,      \n",
    "    'n_estimators':     860,\n",
    "    'scale_pos_weight': 2.76,        \n",
    "    'verbosity':        0,\n",
    "    'objective':        'binary:logistic',\n",
    "    'eval_metric':      ['logloss', 'aucpr', 'auc'],\n",
    "    'seed':             42\n",
    "}\n",
    "\n",
    "# Instantiate an XGBoost classifier\n",
    "clf_final = xgb.XGBClassifier(**params)\n",
    "\n",
    "# Fit classifier\n",
    "clf_final.fit(\n",
    "    X_train, \n",
    "    y_train,\n",
    "    eval_set=[(X_test, y_test)],\n",
    "    eval_metric=['logloss', 'aucpr', 'auc'],          \n",
    "    early_stopping_rounds=10,\n",
    "    verbose=False\n",
    ")\n",
    "# Store evaluation metrics in a dict\n",
    "evals_result_final = clf_final.evals_result()\n",
    "\n",
    "# Print metrics at the model's best iteration\n",
    "# (you can verify that the AUC is correct by running: clf.best_score)\n",
    "print('AUC used as primary evaluation metric for early stopping.')\n",
    "print('AUCPR output at best AUC score shown below.')\n",
    "print('Best iteration at {} rounds.'.format(clf_final.best_iteration))\n",
    "logloss_aucpr_auc(clf_final, evals_result_final)\n",
    "\n",
    "# Make predictions\n",
    "ypred_final = clf_final.predict(X_test, ntree_limit=clf_final.best_ntree_limit)\n",
    "class_metrics(y_test, ypred_final)"
   ]
  },
  {
   "cell_type": "markdown",
   "metadata": {},
   "source": [
    "* Fitting a model with XGBoost's .fit() method yields different evaluation metrics than GridSearch scoring. \n",
    "* So let's fit a model at each iteration with the optimal parameters found at the end of each iteration to identify our best performing parameters. \n",
    "* After fitting classifiers, let's plot them and compare the evaluation metrics at the end of each iteration to visualize tuning efficacy. \n",
    "***"
   ]
  },
  {
   "cell_type": "markdown",
   "metadata": {},
   "source": [
    "## 9. Iteration Comparisons\n",
    "1. Fit models at each iteration and document metrics in a dataframe.\n",
    "2. Plot the dataframe in a lineplot to show changes at each iteration. \n",
    "3. Choose the best iteration and use its parameters for final model. \n",
    "4. Provide explanation for iteration selection."
   ]
  },
  {
   "cell_type": "code",
   "execution_count": 19,
   "metadata": {},
   "outputs": [],
   "source": [
    "def fit_model(clf_name):\n",
    "    \"\"\"Fit a classifier.\"\"\"\n",
    "    clf_name.fit(\n",
    "        X_train, \n",
    "        y_train,\n",
    "        eval_set=[(X_test, y_test)],\n",
    "        eval_metric=['logloss', 'aucpr', 'auc'],          \n",
    "        early_stopping_rounds=10,\n",
    "        verbose=False\n",
    "    )"
   ]
  },
  {
   "cell_type": "markdown",
   "metadata": {},
   "source": [
    "### Iteration 0 (baseline model)\n",
    "Default parameters and a seed"
   ]
  },
  {
   "cell_type": "code",
   "execution_count": 25,
   "metadata": {},
   "outputs": [
    {
     "name": "stdout",
     "output_type": "stream",
     "text": [
      "Baseline model:\n",
      "Best iteration at 40 rounds.\n",
      "AUC:       0.841\n",
      "AUCPR:     0.646\n",
      "Logloss:   0.422\n",
      "Precision: 0.656\n",
      "Recall:    0.488\n",
      "f1-score:  0.560\n"
     ]
    }
   ],
   "source": [
    "print('Baseline model:')\n",
    "print('Best iteration at {} rounds.'.format(clf.best_iteration))\n",
    "logloss_aucpr_auc(clf, evals_result)\n",
    "class_metrics(y_test, ypred)"
   ]
  },
  {
   "cell_type": "markdown",
   "metadata": {},
   "source": [
    "### Iteration 1 (equalize classes)\n",
    "Parameter scale_pos_weight"
   ]
  },
  {
   "cell_type": "code",
   "execution_count": 26,
   "metadata": {},
   "outputs": [
    {
     "name": "stdout",
     "output_type": "stream",
     "text": [
      "Equalized model:\n",
      "Best iteration at 7 rounds.\n",
      "AUC:       0.842\n",
      "AUCPR:     0.644\n",
      "Logloss:   0.494\n",
      "Precision: 0.519\n",
      "Recall:    0.799\n",
      "f1-score:  0.629\n"
     ]
    }
   ],
   "source": [
    "print('Equalized model:')\n",
    "print('Best iteration at {} rounds.'.format(clf1.best_iteration))\n",
    "logloss_aucpr_auc(clf1, evals_result1)\n",
    "class_metrics(y_test, ypred1)"
   ]
  },
  {
   "cell_type": "markdown",
   "metadata": {},
   "source": [
    "### Iteration 2 (control overfitting 1)\n",
    "Parameters max_depth, min_child_weight, and gamma"
   ]
  },
  {
   "cell_type": "code",
   "execution_count": 21,
   "metadata": {},
   "outputs": [
    {
     "name": "stdout",
     "output_type": "stream",
     "text": [
      "Best iteration at 16 rounds.\n",
      "AUC:       0.839\n",
      "AUCPR:     0.647\n",
      "Logloss:   0.496\n",
      "Precision: 0.498\n",
      "Recall:    0.813\n",
      "f1-score:  0.617\n"
     ]
    }
   ],
   "source": [
    "# Parameters at the end of this iteration\n",
    "params = {\n",
    "    'max_depth':        3,\n",
    "    'min_child_weight': 13,\n",
    "    'gamma':            5,\n",
    "    'subsample':        1,        \n",
    "    'colsample_bytree': 1,        \n",
    "    'learning_rate':    0.3,      \n",
    "    'n_estimators':     500,\n",
    "    'scale_pos_weight': 2.76,        \n",
    "    'verbosity':        0,\n",
    "    'objective':        'binary:logistic',\n",
    "    'eval_metric':      ['logloss', 'aucpr', 'auc'],     \n",
    "    'seed':             42\n",
    "}\n",
    "\n",
    "# Instantiate classifier\n",
    "clf_iter2 = xgb.XGBClassifier(**params)\n",
    "\n",
    "# Fit classifier\n",
    "fit_model(clf_iter2)\n",
    "\n",
    "# Store eval metrics in a dict\n",
    "evals_iter2 = clf_iter2.evals_result()\n",
    "\n",
    "# Print metrics\n",
    "print('Best iteration at {} rounds.'.format(clf_iter2.best_iteration))\n",
    "logloss_aucpr_auc(clf_iter2, evals_iter2)\n",
    "\n",
    "# Make predictions\n",
    "ypred_iter2 = clf_iter2.predict(X_test, ntree_limit=clf_iter2.best_ntree_limit)\n",
    "class_metrics(y_test, ypred_iter2)"
   ]
  },
  {
   "cell_type": "markdown",
   "metadata": {},
   "source": [
    "### Iteration 3 (control overfitting 2)\n",
    "Parameters subsample and colsample_bytree"
   ]
  },
  {
   "cell_type": "code",
   "execution_count": 22,
   "metadata": {},
   "outputs": [
    {
     "name": "stdout",
     "output_type": "stream",
     "text": [
      "Best iteration at 67 rounds.\n",
      "AUC:       0.840\n",
      "AUCPR:     0.648\n",
      "Logloss:   0.495\n",
      "Precision: 0.499\n",
      "Recall:    0.797\n",
      "f1-score:  0.614\n"
     ]
    }
   ],
   "source": [
    "# Parameters at the end of this iteration\n",
    "params = {\n",
    "    'max_depth':        3,\n",
    "    'min_child_weight': 13,\n",
    "    'gamma':            5,\n",
    "    'subsample':        1,        \n",
    "    'colsample_bytree': 0.1,        \n",
    "    'learning_rate':    0.3,      \n",
    "    'n_estimators':     500,\n",
    "    'scale_pos_weight': 2.76,        \n",
    "    'verbosity':        0,\n",
    "    'objective':        'binary:logistic',\n",
    "    'eval_metric':      ['logloss', 'aucpr', 'auc'],     \n",
    "    'seed':             42\n",
    "}\n",
    "\n",
    "# Instantiate classifier\n",
    "clf_iter3 = xgb.XGBClassifier(**params)\n",
    "\n",
    "# Fit classifier\n",
    "fit_model(clf_iter3)\n",
    "\n",
    "# Store eval metrics in a dict\n",
    "evals_iter3 = clf_iter3.evals_result()\n",
    "\n",
    "# Print metrics\n",
    "print('Best iteration at {} rounds.'.format(clf_iter3.best_iteration))\n",
    "logloss_aucpr_auc(clf_iter3, evals_iter3)\n",
    "\n",
    "# Make predictions\n",
    "ypred_iter3 = clf_iter3.predict(X_test, ntree_limit=clf_iter3.best_ntree_limit)\n",
    "class_metrics(y_test, ypred_iter3)"
   ]
  },
  {
   "cell_type": "markdown",
   "metadata": {},
   "source": [
    "### Iteration 4 (control overfitting iter. 1)\n",
    "Parameters learning_rate and n_estimators (Iteration 1)"
   ]
  },
  {
   "cell_type": "code",
   "execution_count": 23,
   "metadata": {},
   "outputs": [
    {
     "name": "stdout",
     "output_type": "stream",
     "text": [
      "Best iteration at 36 rounds.\n",
      "AUC:       0.838\n",
      "AUCPR:     0.641\n",
      "Logloss:   0.562\n",
      "Precision: 0.500\n",
      "Recall:    0.779\n",
      "f1-score:  0.609\n"
     ]
    }
   ],
   "source": [
    "# Parameters at the end of this iteration\n",
    "params = {\n",
    "    'max_depth':        3,\n",
    "    'min_child_weight': 13,\n",
    "    'gamma':            5,\n",
    "    'subsample':        1,        \n",
    "    'colsample_bytree': 0.1,        \n",
    "    'learning_rate':    0.05,      \n",
    "    'n_estimators':     700,\n",
    "    'scale_pos_weight': 2.76,        \n",
    "    'verbosity':        0,\n",
    "    'objective':        'binary:logistic',\n",
    "    'eval_metric':      ['logloss', 'aucpr', 'auc'],     \n",
    "    'seed':             42\n",
    "}\n",
    "\n",
    "# Instantiate classifier\n",
    "clf_iter4 = xgb.XGBClassifier(**params)\n",
    "\n",
    "# Fit classifier\n",
    "fit_model(clf_iter4)\n",
    "\n",
    "# Store eval metrics in a dict\n",
    "evals_iter4 = clf_iter4.evals_result()\n",
    "\n",
    "# Print metrics\n",
    "print('Best iteration at {} rounds.'.format(clf_iter4.best_iteration))\n",
    "logloss_aucpr_auc(clf_iter4, evals_iter4)\n",
    "\n",
    "# Make predictions\n",
    "ypred_iter4 = clf_iter4.predict(X_test, ntree_limit=clf_iter4.best_ntree_limit)\n",
    "class_metrics(y_test, ypred_iter4)"
   ]
  },
  {
   "cell_type": "markdown",
   "metadata": {},
   "source": [
    "### Iteration 5 (control overfitting iter. 2)\n",
    "Final Model\n",
    "<br>Parameters learning_rate and n_estimators (Iteration 2)"
   ]
  },
  {
   "cell_type": "code",
   "execution_count": 30,
   "metadata": {},
   "outputs": [
    {
     "name": "stdout",
     "output_type": "stream",
     "text": [
      "Final model:\n",
      "Best iteration at 36 rounds.\n",
      "AUC:       0.837\n",
      "AUCPR:     0.640\n",
      "Logloss:   0.606\n",
      "Precision: 0.499\n",
      "Recall:    0.788\n",
      "f1-score:  0.611\n"
     ]
    }
   ],
   "source": [
    "print('Final model:')\n",
    "print('Best iteration at {} rounds.'.format(clf_final.best_iteration))\n",
    "logloss_aucpr_auc(clf_final, evals_result_final)\n",
    "class_metrics(y_test, ypred_final)"
   ]
  },
  {
   "cell_type": "markdown",
   "metadata": {},
   "source": [
    "Let's make a dataframe of the results to plot tuning efficacy at each iteration."
   ]
  },
  {
   "cell_type": "code",
   "execution_count": 141,
   "metadata": {
    "scrolled": false
   },
   "outputs": [
    {
     "data": {
      "text/html": [
       "<div>\n",
       "<style scoped>\n",
       "    .dataframe tbody tr th:only-of-type {\n",
       "        vertical-align: middle;\n",
       "    }\n",
       "\n",
       "    .dataframe tbody tr th {\n",
       "        vertical-align: top;\n",
       "    }\n",
       "\n",
       "    .dataframe thead th {\n",
       "        text-align: right;\n",
       "    }\n",
       "</style>\n",
       "<table border=\"1\" class=\"dataframe\">\n",
       "  <thead>\n",
       "    <tr style=\"text-align: right;\">\n",
       "      <th></th>\n",
       "      <th>AUC</th>\n",
       "      <th>AUCPR</th>\n",
       "      <th>Logloss</th>\n",
       "      <th>Precision</th>\n",
       "      <th>Recall</th>\n",
       "      <th>F1_score</th>\n",
       "    </tr>\n",
       "  </thead>\n",
       "  <tbody>\n",
       "    <tr>\n",
       "      <th>0</th>\n",
       "      <td>0.841</td>\n",
       "      <td>0.646</td>\n",
       "      <td>0.422</td>\n",
       "      <td>0.656</td>\n",
       "      <td>0.488</td>\n",
       "      <td>0.560</td>\n",
       "    </tr>\n",
       "    <tr>\n",
       "      <th>1</th>\n",
       "      <td>0.842</td>\n",
       "      <td>0.644</td>\n",
       "      <td>0.494</td>\n",
       "      <td>0.519</td>\n",
       "      <td>0.799</td>\n",
       "      <td>0.629</td>\n",
       "    </tr>\n",
       "    <tr>\n",
       "      <th>2</th>\n",
       "      <td>0.839</td>\n",
       "      <td>0.647</td>\n",
       "      <td>0.496</td>\n",
       "      <td>0.498</td>\n",
       "      <td>0.813</td>\n",
       "      <td>0.617</td>\n",
       "    </tr>\n",
       "    <tr>\n",
       "      <th>3</th>\n",
       "      <td>0.840</td>\n",
       "      <td>0.648</td>\n",
       "      <td>0.495</td>\n",
       "      <td>0.499</td>\n",
       "      <td>0.797</td>\n",
       "      <td>0.614</td>\n",
       "    </tr>\n",
       "    <tr>\n",
       "      <th>4</th>\n",
       "      <td>0.838</td>\n",
       "      <td>0.641</td>\n",
       "      <td>0.562</td>\n",
       "      <td>0.500</td>\n",
       "      <td>0.779</td>\n",
       "      <td>0.609</td>\n",
       "    </tr>\n",
       "    <tr>\n",
       "      <th>5</th>\n",
       "      <td>0.837</td>\n",
       "      <td>0.640</td>\n",
       "      <td>0.606</td>\n",
       "      <td>0.499</td>\n",
       "      <td>0.788</td>\n",
       "      <td>0.611</td>\n",
       "    </tr>\n",
       "  </tbody>\n",
       "</table>\n",
       "</div>"
      ],
      "text/plain": [
       "     AUC  AUCPR  Logloss  Precision  Recall  F1_score\n",
       "0  0.841  0.646    0.422      0.656   0.488     0.560\n",
       "1  0.842  0.644    0.494      0.519   0.799     0.629\n",
       "2  0.839  0.647    0.496      0.498   0.813     0.617\n",
       "3  0.840  0.648    0.495      0.499   0.797     0.614\n",
       "4  0.838  0.641    0.562      0.500   0.779     0.609\n",
       "5  0.837  0.640    0.606      0.499   0.788     0.611"
      ]
     },
     "execution_count": 141,
     "metadata": {},
     "output_type": "execute_result"
    }
   ],
   "source": [
    "iter0 = [0.841, 0.646, 0.422, 0.656, 0.488, 0.56]\n",
    "iter1 = [0.842, 0.644, 0.494, 0.519, 0.799, 0.629]\n",
    "iter2 = [0.839, 0.647, 0.496, 0.498, 0.813, 0.617]\n",
    "iter3 = [0.840, 0.648, 0.495, 0.499, 0.797, 0.614]\n",
    "iter4 = [0.838, 0.641, 0.562, 0.500, 0.779, 0.609]\n",
    "iter5 = [0.837, 0.640, 0.606, 0.499, 0.788, 0.611]\n",
    "\n",
    "df_iters = pd.DataFrame(\n",
    "    np.array([iter0, iter1, iter2, iter3, iter4, iter5]),\n",
    "    columns=['AUC', 'AUCPR', 'Logloss' , 'Precision', 'Recall', 'F1_score']\n",
    ")\n",
    "df_iters"
   ]
  },
  {
   "cell_type": "markdown",
   "metadata": {},
   "source": [
    "* The dataframe index represents each iteration and the columns represent the evaluation metrics. \n",
    "* Let's plot the dataframe to visualize changes in evaluation metrics after each iteration. "
   ]
  },
  {
   "cell_type": "code",
   "execution_count": 511,
   "metadata": {
    "scrolled": false
   },
   "outputs": [
    {
     "data": {
      "image/png": "[encoded data removed]",
      "text/plain": [
       "<Figure size 792x720 with 1 Axes>"
      ]
     },
     "metadata": {
      "needs_background": "light"
     },
     "output_type": "display_data"
    }
   ],
   "source": [
    "plt.figure(figsize=(11, 10));\n",
    "N = 6\n",
    "ind = np.arange(N)\n",
    "\n",
    "# Plot metrics\n",
    "for metric in list(df_iters.columns):\n",
    "    plt.plot(ind, df_iters[metric].values, linewidth=1.5, marker='o', label=metric);\n",
    "\n",
    "plt.axvline(x=2, color='k', linestyle='--')\n",
    "    \n",
    "# Set labels\n",
    "plt.title('Evaluation Metrics Over Tuning Iterations', fontsize=15)\n",
    "plt.ylabel('Value', fontsize=13)\n",
    "plt.xlabel('Iteration', fontsize=13)\n",
    "plt.xticks(\n",
    "    np.arange(0, 6, 1),\n",
    "    labels=['0\\n40 trees', \n",
    "            '1\\n7 trees',\n",
    "            '2\\n16 trees',\n",
    "            '3\\n67 trees',\n",
    "            '4\\n36 trees',\n",
    "            '5\\n36 trees'\n",
    "           ]\n",
    ")\n",
    "plt.legend(loc='center left', bbox_to_anchor=(1, 0.5))\n",
    "plt.show()"
   ]
  },
  {
   "cell_type": "markdown",
   "metadata": {},
   "source": [
    "**Our model performs best at the second iteration.**\n",
    "* Up to the second iteration, the imbalanced classes have been equalized and tree complexity was controlled to reduce overfitting.\n",
    "* At this iteration, the model has:\n",
    "    * Highest recall value with comparable precision and f1-scores at latter iterations. \n",
    "    * Lower logloss and tree count (boosting rounds) than latter iterations.\n",
    "***"
   ]
  },
  {
   "cell_type": "markdown",
   "metadata": {},
   "source": [
    "## 10. Final Model"
   ]
  },
  {
   "cell_type": "code",
   "execution_count": 519,
   "metadata": {
    "scrolled": false
   },
   "outputs": [
    {
     "data": {
      "image/png": "[encoded data removed]",
      "text/plain": [
       "<Figure size 1008x504 with 2 Axes>"
      ]
     },
     "metadata": {
      "needs_background": "light"
     },
     "output_type": "display_data"
    },
    {
     "name": "stdout",
     "output_type": "stream",
     "text": [
      "Best iteration at 16 rounds.\n",
      "AUC:       0.839\n",
      "AUCPR:     0.647\n",
      "Logloss:   0.496\n",
      "Precision: 0.498\n",
      "Recall:    0.813\n",
      "f1-score:  0.617\n"
     ]
    }
   ],
   "source": [
    "# Parameters at the end of this iteration\n",
    "params = {\n",
    "    'max_depth':        3,\n",
    "    'min_child_weight': 13,\n",
    "    'gamma':            5,\n",
    "    'subsample':        1,        \n",
    "    'colsample_bytree': 1,        \n",
    "    'learning_rate':    0.3,      \n",
    "    'n_estimators':     500,\n",
    "    'scale_pos_weight': 2.76,        \n",
    "    'verbosity':        0,\n",
    "    'objective':        'binary:logistic',\n",
    "    'eval_metric':      ['logloss', 'aucpr', 'auc'],     \n",
    "    'seed':             42\n",
    "}\n",
    "\n",
    "# Instantiate classifier\n",
    "clf_iter2 = xgb.XGBClassifier(**params)\n",
    "\n",
    "# Fit classifier\n",
    "fit_model(clf_iter2)\n",
    "\n",
    "# Store eval metrics in a dict\n",
    "evals_iter2 = clf_iter2.evals_result()\n",
    "\n",
    "# Plot ROC and AUCPR\n",
    "plot_roc_pr(clf_iter2)\n",
    "\n",
    "# Print metrics\n",
    "print('Best iteration at {} rounds.'.format(clf_iter2.best_iteration))\n",
    "logloss_aucpr_auc(clf_iter2, evals_iter2)\n",
    "\n",
    "# Make predictions\n",
    "ypred_iter2 = clf_iter2.predict(X_test, ntree_limit=clf_iter2.best_ntree_limit)\n",
    "class_metrics(y_test, ypred_iter2)"
   ]
  },
  {
   "cell_type": "markdown",
   "metadata": {},
   "source": [
    "# 11. Additional Reference"
   ]
  },
  {
   "cell_type": "code",
   "execution_count": 14,
   "metadata": {},
   "outputs": [],
   "source": [
    "# # For .train() instead of .fit()\n",
    "# # main advantages of .train() method:\n",
    "# # 1. can train with DMatrices - optimized for speed\n",
    "# # 2. in the .train() method, you can set customized objective function\n",
    "# #    and customized evaluation function\n",
    "# # For .fit(), however, you can integrate with other \n",
    "# # scikit-learn APIs like pipelines - to impute, scale, etc.\n",
    "# # (I was also getting a .01 higher AUC with .fit())\n",
    "\n",
    "# # Load data into DMatrices (optimized for xgb algorithm)\n",
    "# dtrain = xgb.DMatrix(X_train, label=y_train)\n",
    "# dtest = xgb.DMatrix(X_test, label=y_test)\n",
    "\n",
    "# # Define baseline parameters\n",
    "# params_base = {\n",
    "#     'verbosity': 0,\n",
    "#     'objective': 'binary:logistic',\n",
    "#     'eval_metric': 'auc',\n",
    "#     'seed': 42\n",
    "# }\n",
    "\n",
    "# # Set number of boosting rounds\n",
    "# num_round = 50\n",
    "\n",
    "# # Specify validations set to watch performance\n",
    "# watchlist = [(dtrain, 'train'), (dtest, 'eval')]\n",
    "\n",
    "# # Initialize dictionary to store testing evaluation results\n",
    "# bst1_evals = {}\n",
    "\n",
    "# # Train model\n",
    "# bst1 = xgb.train(\n",
    "#     params=params_base,\n",
    "#     dtrain=dtrain,\n",
    "#     num_boost_round=num_round,\n",
    "#     evals=watchlist,\n",
    "#     maximize=True,\n",
    "#     evals_result=bst1_evals,\n",
    "#     early_stopping_rounds=10,\n",
    "#     verbose_eval=0\n",
    "# )\n",
    "\n",
    "# # Make preditions (threshold of 0.5)\n",
    "# # (This may not be the most effective way to make predictions)\n",
    "# bst1_ypred = (bst1.predict(dtest, ntree_limit=bst1.best_ntree_limit) > 0.5).astype('int')\n",
    "\n",
    "# # Plot the ROC Curve\n",
    "# import matplotlib.pyplot as plt\n",
    "# from sklearn import metrics\n",
    "# bstpreds = bst1.predict(dtest)\n",
    "# fpr, tpr, thresholds = metrics.roc_curve(y_test, bstpreds)\n",
    "# roc_auc = metrics.auc(fpr, tpr)\n",
    "\n",
    "# plt.title('Receiver Operating Characteristic')\n",
    "# plt.plot(fpr, tpr, 'b', label = 'AUC = %0.6f' % roc_auc)\n",
    "# plt.legend(loc = 'lower right')\n",
    "# plt.plot([0, 1], [0, 1],'r--')\n",
    "# plt.xlim([0, 1])\n",
    "# plt.ylim([0, 1])\n",
    "# plt.ylabel('True Positive Rate')\n",
    "# plt.xlabel('False Positive Rate')\n",
    "# plt.show()"
   ]
  },
  {
   "cell_type": "code",
   "execution_count": 15,
   "metadata": {},
   "outputs": [],
   "source": [
    "# from sklearn.feature_selection import SelectFromModel\n",
    "# from numpy import sort\n",
    "\n",
    "# thresholds = sort(clf_final.feature_importances_)\n",
    "# for thresh in thresholds:\n",
    "    \n",
    "#     # Select features using threshold\n",
    "#     selection = SelectFromModel(clf_final, threshold=thresh, prefit=True)\n",
    "#     select_X_train = selection.transform(X_train)\n",
    "    \n",
    "#     # Train model\n",
    "#     selection_model = xgb.XGBClassifier(**params)\n",
    "#     selection_model.fit(select_X_train, y_train)\n",
    "    \n",
    "#     # Evaluate model\n",
    "#     select_X_test = selection.transform(X_test)\n",
    "#     ypred = selection_model.predict(select_X_test)\n",
    "#     probs = selection_model.predict_proba(select_X_test)\n",
    "#     preds = probs[:, 1]\n",
    "    \n",
    "#     print('Thresh:     {0:.3f}'.format(thresh))\n",
    "#     print('# features: {}'.format(select_X_train.shape[1]))\n",
    "#     print('AUC:        {0:.3f}'.format(roc_auc_score(y_test, preds)))\n",
    "#     print('AUCPR:      {0:.3f}'.format(average_precision_score(y_test, preds)))\n",
    "#     print('Precision:  {0:.3f}'.format(precision_score(y_test, ypred)))\n",
    "#     print('Recall:     {0:.3f}'.format(recall_score(y_test, ypred)))\n",
    "#     print('f1-score:   {0:.3f}'.format(f1_score(y_test, ypred)))\n",
    "#     print('------------------')"
   ]
  }
 ],
 "metadata": {
  "hide_input": false,
  "kernelspec": {
   "display_name": "Python 3",
   "language": "python",
   "name": "python3"
  },
  "language_info": {
   "codemirror_mode": {
    "name": "ipython",
    "version": 3
   },
   "file_extension": ".py",
   "mimetype": "text/x-python",
   "name": "python",
   "nbconvert_exporter": "python",
   "pygments_lexer": "ipython3",
   "version": "3.7.1"
  }
 },
 "nbformat": 4,
 "nbformat_minor": 2
}
